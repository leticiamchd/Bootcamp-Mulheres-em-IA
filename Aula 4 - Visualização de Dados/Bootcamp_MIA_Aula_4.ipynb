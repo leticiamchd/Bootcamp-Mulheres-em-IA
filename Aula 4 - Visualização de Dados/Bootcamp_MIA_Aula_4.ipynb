{
  "nbformat": 4,
  "nbformat_minor": 0,
  "metadata": {
    "colab": {
      "name": "Bootcamp MIA Aula 4.ipynb",
      "provenance": [],
      "toc_visible": true
    },
    "kernelspec": {
      "name": "python3",
      "display_name": "Python 3"
    },
    "language_info": {
      "name": "python"
    }
  },
  "cells": [
    {
      "cell_type": "markdown",
      "source": [
        "# Visualização de Dados"
      ],
      "metadata": {
        "id": "TQZ6dY4-nmbd"
      }
    },
    {
      "cell_type": "code",
      "execution_count": null,
      "metadata": {
        "id": "8RAiz_sEngSm"
      },
      "outputs": [],
      "source": [
        "import seaborn as sns\n",
        "import matplotlib.pyplot as plt\n",
        "import pandas as pd\n",
        "import re\n",
        "%matplotlib inline"
      ]
    },
    {
      "cell_type": "code",
      "source": [
        "df = pd.read_csv(\"https://raw.githubusercontent.com/mulheres-em-ia/bootcamp-mia-2022/main/4.%20Visualiza%C3%A7%C3%A3o%20de%20Dados/State%20of%20Data%202021%20-%20Dataset%20-%20Pgina1%20(1).csv\")"
      ],
      "metadata": {
        "id": "KrvLjt2Cnqzv"
      },
      "execution_count": null,
      "outputs": []
    },
    {
      "cell_type": "code",
      "source": [
        "df.head()"
      ],
      "metadata": {
        "colab": {
          "base_uri": "https://localhost:8080/",
          "height": 716
        },
        "id": "ay98v2QQnw61",
        "outputId": "f480ce5e-6d70-4cd9-8bf0-074d09082bdd"
      },
      "execution_count": null,
      "outputs": [
        {
          "output_type": "execute_result",
          "data": {
            "text/plain": [
              "   Unnamed: 0  Idade     Genero  UF Regiao_origem   Nivel Ensino  \\\n",
              "0           0   38.0  Masculino  CE           NaN  Pós-graduação   \n",
              "1           1   39.0  Masculino  BA       Sudeste  Pós-graduação   \n",
              "2           2   30.0  Masculino  SC           NaN  Pós-graduação   \n",
              "3           3   38.0   Feminino  SP           NaN  Pós-graduação   \n",
              "4           4   36.0  Masculino  SC           NaN  Pós-graduação   \n",
              "\n",
              "                                       Area Formacao  \\\n",
              "0                                   Química / Física   \n",
              "1  Economia/ Administração / Contabilidade / Fina...   \n",
              "2  Computação / Engenharia de Software / Sistemas...   \n",
              "3                                             Outras   \n",
              "4                                 Outras Engenharias   \n",
              "\n",
              "                  Situacao Trabalho        Setor  Trabalha como Gestao  ...  \\\n",
              "0                   Empregado (CLT)    Marketing                   1.0  ...   \n",
              "1  Empreendedor ou Empregado (CNPJ)  Consultoria                   1.0  ...   \n",
              "2                   Empregado (CLT)    Indústria                   1.0  ...   \n",
              "3  Empreendedor ou Empregado (CNPJ)     Serviços                   1.0  ...   \n",
              "4  Empreendedor ou Empregado (CNPJ)       Varejo                   1.0  ...   \n",
              "\n",
              "  Cargo Atual   Nivel                    Faixa Salarial  \\\n",
              "0         NaN  Gestor    de R$ 4.001/mês a R$ 6.000/mês   \n",
              "1         NaN  Gestor    de R$ 6.001/mês a R$ 8.000/mês   \n",
              "2         NaN  Gestor   de R$ 8.001/mês a R$ 12.000/mês   \n",
              "3         NaN  Gestor  de R$ 12.001/mês a R$ 16.000/mês   \n",
              "4         NaN  Gestor   de R$ 8.001/mês a R$ 12.000/mês   \n",
              "\n",
              "                          Insatisfacao com a Empresa Tempo XP em Dados  \\\n",
              "0                                                NaN   Mais de 10 anos   \n",
              "1                                                NaN     de 2 a 3 anos   \n",
              "2             O clima de trabalho/ambiente não é bom     de 1 a 2 anos   \n",
              "3           Falta de maturidade analítica na empresa   Mais de 10 anos   \n",
              "4  Gostaria de trabalhar em em outra área de atua...     de 1 a 2 anos   \n",
              "\n",
              "                                Tempo XP em Software  \\\n",
              "0  Não tive experiência na área de TI/Engenharia ...   \n",
              "1  Não tive experiência na área de TI/Engenharia ...   \n",
              "2                                      de 2 a 3 anos   \n",
              "3                                     Menos de 1 ano   \n",
              "4                                      de 4 a 5 anos   \n",
              "\n",
              "                       Criterios de escolha trabalho  \\\n",
              "0                                         Benefícios   \n",
              "1                   Flexibilidade de trabalho remoto   \n",
              "2  Oportunidade de aprendizado e trabalhar com re...   \n",
              "3  Propósito do trabalho e da empresa, Flexibilid...   \n",
              "4  Maturidade da empresa em termos de tecnologia ...   \n",
              "\n",
              "                             Forma de trabalho atual  \\\n",
              "0                             Modelo 100% presencial   \n",
              "1  Modelo híbrido flexível (o funcionário tem lib...   \n",
              "2                             Modelo 100% presencial   \n",
              "3                             Modelo 100% presencial   \n",
              "4                             Modelo 100% presencial   \n",
              "\n",
              "                          Forma de trabalho desejada Faixa Salarial_number  \n",
              "0  Modelo híbrido com dias fixos de trabalho pres...                6000.0  \n",
              "1                                 Modelo 100% remoto                8000.0  \n",
              "2                                 Modelo 100% remoto               12000.0  \n",
              "3  Modelo híbrido com dias fixos de trabalho pres...               16000.0  \n",
              "4                                 Modelo 100% remoto               12000.0  \n",
              "\n",
              "[5 rows x 21 columns]"
            ],
            "text/html": [
              "\n",
              "  <div id=\"df-4c941521-6441-447b-9292-b4e7562490e0\">\n",
              "    <div class=\"colab-df-container\">\n",
              "      <div>\n",
              "<style scoped>\n",
              "    .dataframe tbody tr th:only-of-type {\n",
              "        vertical-align: middle;\n",
              "    }\n",
              "\n",
              "    .dataframe tbody tr th {\n",
              "        vertical-align: top;\n",
              "    }\n",
              "\n",
              "    .dataframe thead th {\n",
              "        text-align: right;\n",
              "    }\n",
              "</style>\n",
              "<table border=\"1\" class=\"dataframe\">\n",
              "  <thead>\n",
              "    <tr style=\"text-align: right;\">\n",
              "      <th></th>\n",
              "      <th>Unnamed: 0</th>\n",
              "      <th>Idade</th>\n",
              "      <th>Genero</th>\n",
              "      <th>UF</th>\n",
              "      <th>Regiao_origem</th>\n",
              "      <th>Nivel Ensino</th>\n",
              "      <th>Area Formacao</th>\n",
              "      <th>Situacao Trabalho</th>\n",
              "      <th>Setor</th>\n",
              "      <th>Trabalha como Gestao</th>\n",
              "      <th>...</th>\n",
              "      <th>Cargo Atual</th>\n",
              "      <th>Nivel</th>\n",
              "      <th>Faixa Salarial</th>\n",
              "      <th>Insatisfacao com a Empresa</th>\n",
              "      <th>Tempo XP em Dados</th>\n",
              "      <th>Tempo XP em Software</th>\n",
              "      <th>Criterios de escolha trabalho</th>\n",
              "      <th>Forma de trabalho atual</th>\n",
              "      <th>Forma de trabalho desejada</th>\n",
              "      <th>Faixa Salarial_number</th>\n",
              "    </tr>\n",
              "  </thead>\n",
              "  <tbody>\n",
              "    <tr>\n",
              "      <th>0</th>\n",
              "      <td>0</td>\n",
              "      <td>38.0</td>\n",
              "      <td>Masculino</td>\n",
              "      <td>CE</td>\n",
              "      <td>NaN</td>\n",
              "      <td>Pós-graduação</td>\n",
              "      <td>Química / Física</td>\n",
              "      <td>Empregado (CLT)</td>\n",
              "      <td>Marketing</td>\n",
              "      <td>1.0</td>\n",
              "      <td>...</td>\n",
              "      <td>NaN</td>\n",
              "      <td>Gestor</td>\n",
              "      <td>de R$ 4.001/mês a R$ 6.000/mês</td>\n",
              "      <td>NaN</td>\n",
              "      <td>Mais de 10 anos</td>\n",
              "      <td>Não tive experiência na área de TI/Engenharia ...</td>\n",
              "      <td>Benefícios</td>\n",
              "      <td>Modelo 100% presencial</td>\n",
              "      <td>Modelo híbrido com dias fixos de trabalho pres...</td>\n",
              "      <td>6000.0</td>\n",
              "    </tr>\n",
              "    <tr>\n",
              "      <th>1</th>\n",
              "      <td>1</td>\n",
              "      <td>39.0</td>\n",
              "      <td>Masculino</td>\n",
              "      <td>BA</td>\n",
              "      <td>Sudeste</td>\n",
              "      <td>Pós-graduação</td>\n",
              "      <td>Economia/ Administração / Contabilidade / Fina...</td>\n",
              "      <td>Empreendedor ou Empregado (CNPJ)</td>\n",
              "      <td>Consultoria</td>\n",
              "      <td>1.0</td>\n",
              "      <td>...</td>\n",
              "      <td>NaN</td>\n",
              "      <td>Gestor</td>\n",
              "      <td>de R$ 6.001/mês a R$ 8.000/mês</td>\n",
              "      <td>NaN</td>\n",
              "      <td>de 2 a 3 anos</td>\n",
              "      <td>Não tive experiência na área de TI/Engenharia ...</td>\n",
              "      <td>Flexibilidade de trabalho remoto</td>\n",
              "      <td>Modelo híbrido flexível (o funcionário tem lib...</td>\n",
              "      <td>Modelo 100% remoto</td>\n",
              "      <td>8000.0</td>\n",
              "    </tr>\n",
              "    <tr>\n",
              "      <th>2</th>\n",
              "      <td>2</td>\n",
              "      <td>30.0</td>\n",
              "      <td>Masculino</td>\n",
              "      <td>SC</td>\n",
              "      <td>NaN</td>\n",
              "      <td>Pós-graduação</td>\n",
              "      <td>Computação / Engenharia de Software / Sistemas...</td>\n",
              "      <td>Empregado (CLT)</td>\n",
              "      <td>Indústria</td>\n",
              "      <td>1.0</td>\n",
              "      <td>...</td>\n",
              "      <td>NaN</td>\n",
              "      <td>Gestor</td>\n",
              "      <td>de R$ 8.001/mês a R$ 12.000/mês</td>\n",
              "      <td>O clima de trabalho/ambiente não é bom</td>\n",
              "      <td>de 1 a 2 anos</td>\n",
              "      <td>de 2 a 3 anos</td>\n",
              "      <td>Oportunidade de aprendizado e trabalhar com re...</td>\n",
              "      <td>Modelo 100% presencial</td>\n",
              "      <td>Modelo 100% remoto</td>\n",
              "      <td>12000.0</td>\n",
              "    </tr>\n",
              "    <tr>\n",
              "      <th>3</th>\n",
              "      <td>3</td>\n",
              "      <td>38.0</td>\n",
              "      <td>Feminino</td>\n",
              "      <td>SP</td>\n",
              "      <td>NaN</td>\n",
              "      <td>Pós-graduação</td>\n",
              "      <td>Outras</td>\n",
              "      <td>Empreendedor ou Empregado (CNPJ)</td>\n",
              "      <td>Serviços</td>\n",
              "      <td>1.0</td>\n",
              "      <td>...</td>\n",
              "      <td>NaN</td>\n",
              "      <td>Gestor</td>\n",
              "      <td>de R$ 12.001/mês a R$ 16.000/mês</td>\n",
              "      <td>Falta de maturidade analítica na empresa</td>\n",
              "      <td>Mais de 10 anos</td>\n",
              "      <td>Menos de 1 ano</td>\n",
              "      <td>Propósito do trabalho e da empresa, Flexibilid...</td>\n",
              "      <td>Modelo 100% presencial</td>\n",
              "      <td>Modelo híbrido com dias fixos de trabalho pres...</td>\n",
              "      <td>16000.0</td>\n",
              "    </tr>\n",
              "    <tr>\n",
              "      <th>4</th>\n",
              "      <td>4</td>\n",
              "      <td>36.0</td>\n",
              "      <td>Masculino</td>\n",
              "      <td>SC</td>\n",
              "      <td>NaN</td>\n",
              "      <td>Pós-graduação</td>\n",
              "      <td>Outras Engenharias</td>\n",
              "      <td>Empreendedor ou Empregado (CNPJ)</td>\n",
              "      <td>Varejo</td>\n",
              "      <td>1.0</td>\n",
              "      <td>...</td>\n",
              "      <td>NaN</td>\n",
              "      <td>Gestor</td>\n",
              "      <td>de R$ 8.001/mês a R$ 12.000/mês</td>\n",
              "      <td>Gostaria de trabalhar em em outra área de atua...</td>\n",
              "      <td>de 1 a 2 anos</td>\n",
              "      <td>de 4 a 5 anos</td>\n",
              "      <td>Maturidade da empresa em termos de tecnologia ...</td>\n",
              "      <td>Modelo 100% presencial</td>\n",
              "      <td>Modelo 100% remoto</td>\n",
              "      <td>12000.0</td>\n",
              "    </tr>\n",
              "  </tbody>\n",
              "</table>\n",
              "<p>5 rows × 21 columns</p>\n",
              "</div>\n",
              "      <button class=\"colab-df-convert\" onclick=\"convertToInteractive('df-4c941521-6441-447b-9292-b4e7562490e0')\"\n",
              "              title=\"Convert this dataframe to an interactive table.\"\n",
              "              style=\"display:none;\">\n",
              "        \n",
              "  <svg xmlns=\"http://www.w3.org/2000/svg\" height=\"24px\"viewBox=\"0 0 24 24\"\n",
              "       width=\"24px\">\n",
              "    <path d=\"M0 0h24v24H0V0z\" fill=\"none\"/>\n",
              "    <path d=\"M18.56 5.44l.94 2.06.94-2.06 2.06-.94-2.06-.94-.94-2.06-.94 2.06-2.06.94zm-11 1L8.5 8.5l.94-2.06 2.06-.94-2.06-.94L8.5 2.5l-.94 2.06-2.06.94zm10 10l.94 2.06.94-2.06 2.06-.94-2.06-.94-.94-2.06-.94 2.06-2.06.94z\"/><path d=\"M17.41 7.96l-1.37-1.37c-.4-.4-.92-.59-1.43-.59-.52 0-1.04.2-1.43.59L10.3 9.45l-7.72 7.72c-.78.78-.78 2.05 0 2.83L4 21.41c.39.39.9.59 1.41.59.51 0 1.02-.2 1.41-.59l7.78-7.78 2.81-2.81c.8-.78.8-2.07 0-2.86zM5.41 20L4 18.59l7.72-7.72 1.47 1.35L5.41 20z\"/>\n",
              "  </svg>\n",
              "      </button>\n",
              "      \n",
              "  <style>\n",
              "    .colab-df-container {\n",
              "      display:flex;\n",
              "      flex-wrap:wrap;\n",
              "      gap: 12px;\n",
              "    }\n",
              "\n",
              "    .colab-df-convert {\n",
              "      background-color: #E8F0FE;\n",
              "      border: none;\n",
              "      border-radius: 50%;\n",
              "      cursor: pointer;\n",
              "      display: none;\n",
              "      fill: #1967D2;\n",
              "      height: 32px;\n",
              "      padding: 0 0 0 0;\n",
              "      width: 32px;\n",
              "    }\n",
              "\n",
              "    .colab-df-convert:hover {\n",
              "      background-color: #E2EBFA;\n",
              "      box-shadow: 0px 1px 2px rgba(60, 64, 67, 0.3), 0px 1px 3px 1px rgba(60, 64, 67, 0.15);\n",
              "      fill: #174EA6;\n",
              "    }\n",
              "\n",
              "    [theme=dark] .colab-df-convert {\n",
              "      background-color: #3B4455;\n",
              "      fill: #D2E3FC;\n",
              "    }\n",
              "\n",
              "    [theme=dark] .colab-df-convert:hover {\n",
              "      background-color: #434B5C;\n",
              "      box-shadow: 0px 1px 3px 1px rgba(0, 0, 0, 0.15);\n",
              "      filter: drop-shadow(0px 1px 2px rgba(0, 0, 0, 0.3));\n",
              "      fill: #FFFFFF;\n",
              "    }\n",
              "  </style>\n",
              "\n",
              "      <script>\n",
              "        const buttonEl =\n",
              "          document.querySelector('#df-4c941521-6441-447b-9292-b4e7562490e0 button.colab-df-convert');\n",
              "        buttonEl.style.display =\n",
              "          google.colab.kernel.accessAllowed ? 'block' : 'none';\n",
              "\n",
              "        async function convertToInteractive(key) {\n",
              "          const element = document.querySelector('#df-4c941521-6441-447b-9292-b4e7562490e0');\n",
              "          const dataTable =\n",
              "            await google.colab.kernel.invokeFunction('convertToInteractive',\n",
              "                                                     [key], {});\n",
              "          if (!dataTable) return;\n",
              "\n",
              "          const docLinkHtml = 'Like what you see? Visit the ' +\n",
              "            '<a target=\"_blank\" href=https://colab.research.google.com/notebooks/data_table.ipynb>data table notebook</a>'\n",
              "            + ' to learn more about interactive tables.';\n",
              "          element.innerHTML = '';\n",
              "          dataTable['output_type'] = 'display_data';\n",
              "          await google.colab.output.renderOutput(dataTable, element);\n",
              "          const docLink = document.createElement('div');\n",
              "          docLink.innerHTML = docLinkHtml;\n",
              "          element.appendChild(docLink);\n",
              "        }\n",
              "      </script>\n",
              "    </div>\n",
              "  </div>\n",
              "  "
            ]
          },
          "metadata": {},
          "execution_count": 3
        }
      ]
    },
    {
      "cell_type": "code",
      "source": [
        "df.shape"
      ],
      "metadata": {
        "colab": {
          "base_uri": "https://localhost:8080/"
        },
        "id": "q6-nxsvQn61N",
        "outputId": "09d93fa2-044e-438c-80d0-710bf4bcaad7"
      },
      "execution_count": null,
      "outputs": [
        {
          "output_type": "execute_result",
          "data": {
            "text/plain": [
              "(2365, 21)"
            ]
          },
          "metadata": {},
          "execution_count": 5
        }
      ]
    },
    {
      "cell_type": "code",
      "source": [
        "df.columns"
      ],
      "metadata": {
        "colab": {
          "base_uri": "https://localhost:8080/"
        },
        "id": "_BNFUlh6oAFd",
        "outputId": "ad78dc76-dedd-4dfa-b951-e842fd1d3f6c"
      },
      "execution_count": null,
      "outputs": [
        {
          "output_type": "execute_result",
          "data": {
            "text/plain": [
              "Index(['Unnamed: 0', 'Idade', 'Genero', 'UF', 'Regiao_origem', 'Nivel Ensino',\n",
              "       'Area Formacao', 'Situacao Trabalho', 'Setor', 'Trabalha como Gestao',\n",
              "       'Cargo como Gestor(a)', 'Cargo Atual', 'Nivel', 'Faixa Salarial',\n",
              "       'Insatisfacao com a Empresa', 'Tempo XP em Dados',\n",
              "       'Tempo XP em Software', 'Criterios de escolha trabalho',\n",
              "       'Forma de trabalho atual', 'Forma de trabalho desejada',\n",
              "       'Faixa Salarial_number'],\n",
              "      dtype='object')"
            ]
          },
          "metadata": {},
          "execution_count": 6
        }
      ]
    },
    {
      "cell_type": "code",
      "source": [
        "df.drop(columns = \"Unnamed: 0\", inplace = True)"
      ],
      "metadata": {
        "id": "PuJv81nmoB_1"
      },
      "execution_count": null,
      "outputs": []
    },
    {
      "cell_type": "code",
      "source": [
        "df.shape"
      ],
      "metadata": {
        "colab": {
          "base_uri": "https://localhost:8080/"
        },
        "id": "RERACL2boGjt",
        "outputId": "db948f0d-d854-43bf-e915-dbb1f5d8c5cc"
      },
      "execution_count": null,
      "outputs": [
        {
          "output_type": "execute_result",
          "data": {
            "text/plain": [
              "(2365, 20)"
            ]
          },
          "metadata": {},
          "execution_count": 8
        }
      ]
    },
    {
      "cell_type": "code",
      "source": [
        "df.head()"
      ],
      "metadata": {
        "colab": {
          "base_uri": "https://localhost:8080/",
          "height": 687
        },
        "id": "8Y1dkSYIoIFe",
        "outputId": "1f6e7819-ceaf-4365-fe61-202e598b0546"
      },
      "execution_count": null,
      "outputs": [
        {
          "output_type": "execute_result",
          "data": {
            "text/plain": [
              "   Idade     Genero  UF Regiao_origem   Nivel Ensino  \\\n",
              "0   38.0  Masculino  CE           NaN  Pós-graduação   \n",
              "1   39.0  Masculino  BA       Sudeste  Pós-graduação   \n",
              "2   30.0  Masculino  SC           NaN  Pós-graduação   \n",
              "3   38.0   Feminino  SP           NaN  Pós-graduação   \n",
              "4   36.0  Masculino  SC           NaN  Pós-graduação   \n",
              "\n",
              "                                       Area Formacao  \\\n",
              "0                                   Química / Física   \n",
              "1  Economia/ Administração / Contabilidade / Fina...   \n",
              "2  Computação / Engenharia de Software / Sistemas...   \n",
              "3                                             Outras   \n",
              "4                                 Outras Engenharias   \n",
              "\n",
              "                  Situacao Trabalho        Setor  Trabalha como Gestao  \\\n",
              "0                   Empregado (CLT)    Marketing                   1.0   \n",
              "1  Empreendedor ou Empregado (CNPJ)  Consultoria                   1.0   \n",
              "2                   Empregado (CLT)    Indústria                   1.0   \n",
              "3  Empreendedor ou Empregado (CNPJ)     Serviços                   1.0   \n",
              "4  Empreendedor ou Empregado (CNPJ)       Varejo                   1.0   \n",
              "\n",
              "                        Cargo como Gestor(a) Cargo Atual   Nivel  \\\n",
              "0                     Supervisor/Coordenador         NaN  Gestor   \n",
              "1  Sócio ou C-level (CEO, CDO, CIO, CTO etc)         NaN  Gestor   \n",
              "2                     Supervisor/Coordenador         NaN  Gestor   \n",
              "3                    Gerente/Head/Diretor/VP         NaN  Gestor   \n",
              "4                    Gerente/Head/Diretor/VP         NaN  Gestor   \n",
              "\n",
              "                     Faixa Salarial  \\\n",
              "0    de R$ 4.001/mês a R$ 6.000/mês   \n",
              "1    de R$ 6.001/mês a R$ 8.000/mês   \n",
              "2   de R$ 8.001/mês a R$ 12.000/mês   \n",
              "3  de R$ 12.001/mês a R$ 16.000/mês   \n",
              "4   de R$ 8.001/mês a R$ 12.000/mês   \n",
              "\n",
              "                          Insatisfacao com a Empresa Tempo XP em Dados  \\\n",
              "0                                                NaN   Mais de 10 anos   \n",
              "1                                                NaN     de 2 a 3 anos   \n",
              "2             O clima de trabalho/ambiente não é bom     de 1 a 2 anos   \n",
              "3           Falta de maturidade analítica na empresa   Mais de 10 anos   \n",
              "4  Gostaria de trabalhar em em outra área de atua...     de 1 a 2 anos   \n",
              "\n",
              "                                Tempo XP em Software  \\\n",
              "0  Não tive experiência na área de TI/Engenharia ...   \n",
              "1  Não tive experiência na área de TI/Engenharia ...   \n",
              "2                                      de 2 a 3 anos   \n",
              "3                                     Menos de 1 ano   \n",
              "4                                      de 4 a 5 anos   \n",
              "\n",
              "                       Criterios de escolha trabalho  \\\n",
              "0                                         Benefícios   \n",
              "1                   Flexibilidade de trabalho remoto   \n",
              "2  Oportunidade de aprendizado e trabalhar com re...   \n",
              "3  Propósito do trabalho e da empresa, Flexibilid...   \n",
              "4  Maturidade da empresa em termos de tecnologia ...   \n",
              "\n",
              "                             Forma de trabalho atual  \\\n",
              "0                             Modelo 100% presencial   \n",
              "1  Modelo híbrido flexível (o funcionário tem lib...   \n",
              "2                             Modelo 100% presencial   \n",
              "3                             Modelo 100% presencial   \n",
              "4                             Modelo 100% presencial   \n",
              "\n",
              "                          Forma de trabalho desejada  Faixa Salarial_number  \n",
              "0  Modelo híbrido com dias fixos de trabalho pres...                 6000.0  \n",
              "1                                 Modelo 100% remoto                 8000.0  \n",
              "2                                 Modelo 100% remoto                12000.0  \n",
              "3  Modelo híbrido com dias fixos de trabalho pres...                16000.0  \n",
              "4                                 Modelo 100% remoto                12000.0  "
            ],
            "text/html": [
              "\n",
              "  <div id=\"df-c56e98fc-5972-4a67-825c-18ba338a9782\">\n",
              "    <div class=\"colab-df-container\">\n",
              "      <div>\n",
              "<style scoped>\n",
              "    .dataframe tbody tr th:only-of-type {\n",
              "        vertical-align: middle;\n",
              "    }\n",
              "\n",
              "    .dataframe tbody tr th {\n",
              "        vertical-align: top;\n",
              "    }\n",
              "\n",
              "    .dataframe thead th {\n",
              "        text-align: right;\n",
              "    }\n",
              "</style>\n",
              "<table border=\"1\" class=\"dataframe\">\n",
              "  <thead>\n",
              "    <tr style=\"text-align: right;\">\n",
              "      <th></th>\n",
              "      <th>Idade</th>\n",
              "      <th>Genero</th>\n",
              "      <th>UF</th>\n",
              "      <th>Regiao_origem</th>\n",
              "      <th>Nivel Ensino</th>\n",
              "      <th>Area Formacao</th>\n",
              "      <th>Situacao Trabalho</th>\n",
              "      <th>Setor</th>\n",
              "      <th>Trabalha como Gestao</th>\n",
              "      <th>Cargo como Gestor(a)</th>\n",
              "      <th>Cargo Atual</th>\n",
              "      <th>Nivel</th>\n",
              "      <th>Faixa Salarial</th>\n",
              "      <th>Insatisfacao com a Empresa</th>\n",
              "      <th>Tempo XP em Dados</th>\n",
              "      <th>Tempo XP em Software</th>\n",
              "      <th>Criterios de escolha trabalho</th>\n",
              "      <th>Forma de trabalho atual</th>\n",
              "      <th>Forma de trabalho desejada</th>\n",
              "      <th>Faixa Salarial_number</th>\n",
              "    </tr>\n",
              "  </thead>\n",
              "  <tbody>\n",
              "    <tr>\n",
              "      <th>0</th>\n",
              "      <td>38.0</td>\n",
              "      <td>Masculino</td>\n",
              "      <td>CE</td>\n",
              "      <td>NaN</td>\n",
              "      <td>Pós-graduação</td>\n",
              "      <td>Química / Física</td>\n",
              "      <td>Empregado (CLT)</td>\n",
              "      <td>Marketing</td>\n",
              "      <td>1.0</td>\n",
              "      <td>Supervisor/Coordenador</td>\n",
              "      <td>NaN</td>\n",
              "      <td>Gestor</td>\n",
              "      <td>de R$ 4.001/mês a R$ 6.000/mês</td>\n",
              "      <td>NaN</td>\n",
              "      <td>Mais de 10 anos</td>\n",
              "      <td>Não tive experiência na área de TI/Engenharia ...</td>\n",
              "      <td>Benefícios</td>\n",
              "      <td>Modelo 100% presencial</td>\n",
              "      <td>Modelo híbrido com dias fixos de trabalho pres...</td>\n",
              "      <td>6000.0</td>\n",
              "    </tr>\n",
              "    <tr>\n",
              "      <th>1</th>\n",
              "      <td>39.0</td>\n",
              "      <td>Masculino</td>\n",
              "      <td>BA</td>\n",
              "      <td>Sudeste</td>\n",
              "      <td>Pós-graduação</td>\n",
              "      <td>Economia/ Administração / Contabilidade / Fina...</td>\n",
              "      <td>Empreendedor ou Empregado (CNPJ)</td>\n",
              "      <td>Consultoria</td>\n",
              "      <td>1.0</td>\n",
              "      <td>Sócio ou C-level (CEO, CDO, CIO, CTO etc)</td>\n",
              "      <td>NaN</td>\n",
              "      <td>Gestor</td>\n",
              "      <td>de R$ 6.001/mês a R$ 8.000/mês</td>\n",
              "      <td>NaN</td>\n",
              "      <td>de 2 a 3 anos</td>\n",
              "      <td>Não tive experiência na área de TI/Engenharia ...</td>\n",
              "      <td>Flexibilidade de trabalho remoto</td>\n",
              "      <td>Modelo híbrido flexível (o funcionário tem lib...</td>\n",
              "      <td>Modelo 100% remoto</td>\n",
              "      <td>8000.0</td>\n",
              "    </tr>\n",
              "    <tr>\n",
              "      <th>2</th>\n",
              "      <td>30.0</td>\n",
              "      <td>Masculino</td>\n",
              "      <td>SC</td>\n",
              "      <td>NaN</td>\n",
              "      <td>Pós-graduação</td>\n",
              "      <td>Computação / Engenharia de Software / Sistemas...</td>\n",
              "      <td>Empregado (CLT)</td>\n",
              "      <td>Indústria</td>\n",
              "      <td>1.0</td>\n",
              "      <td>Supervisor/Coordenador</td>\n",
              "      <td>NaN</td>\n",
              "      <td>Gestor</td>\n",
              "      <td>de R$ 8.001/mês a R$ 12.000/mês</td>\n",
              "      <td>O clima de trabalho/ambiente não é bom</td>\n",
              "      <td>de 1 a 2 anos</td>\n",
              "      <td>de 2 a 3 anos</td>\n",
              "      <td>Oportunidade de aprendizado e trabalhar com re...</td>\n",
              "      <td>Modelo 100% presencial</td>\n",
              "      <td>Modelo 100% remoto</td>\n",
              "      <td>12000.0</td>\n",
              "    </tr>\n",
              "    <tr>\n",
              "      <th>3</th>\n",
              "      <td>38.0</td>\n",
              "      <td>Feminino</td>\n",
              "      <td>SP</td>\n",
              "      <td>NaN</td>\n",
              "      <td>Pós-graduação</td>\n",
              "      <td>Outras</td>\n",
              "      <td>Empreendedor ou Empregado (CNPJ)</td>\n",
              "      <td>Serviços</td>\n",
              "      <td>1.0</td>\n",
              "      <td>Gerente/Head/Diretor/VP</td>\n",
              "      <td>NaN</td>\n",
              "      <td>Gestor</td>\n",
              "      <td>de R$ 12.001/mês a R$ 16.000/mês</td>\n",
              "      <td>Falta de maturidade analítica na empresa</td>\n",
              "      <td>Mais de 10 anos</td>\n",
              "      <td>Menos de 1 ano</td>\n",
              "      <td>Propósito do trabalho e da empresa, Flexibilid...</td>\n",
              "      <td>Modelo 100% presencial</td>\n",
              "      <td>Modelo híbrido com dias fixos de trabalho pres...</td>\n",
              "      <td>16000.0</td>\n",
              "    </tr>\n",
              "    <tr>\n",
              "      <th>4</th>\n",
              "      <td>36.0</td>\n",
              "      <td>Masculino</td>\n",
              "      <td>SC</td>\n",
              "      <td>NaN</td>\n",
              "      <td>Pós-graduação</td>\n",
              "      <td>Outras Engenharias</td>\n",
              "      <td>Empreendedor ou Empregado (CNPJ)</td>\n",
              "      <td>Varejo</td>\n",
              "      <td>1.0</td>\n",
              "      <td>Gerente/Head/Diretor/VP</td>\n",
              "      <td>NaN</td>\n",
              "      <td>Gestor</td>\n",
              "      <td>de R$ 8.001/mês a R$ 12.000/mês</td>\n",
              "      <td>Gostaria de trabalhar em em outra área de atua...</td>\n",
              "      <td>de 1 a 2 anos</td>\n",
              "      <td>de 4 a 5 anos</td>\n",
              "      <td>Maturidade da empresa em termos de tecnologia ...</td>\n",
              "      <td>Modelo 100% presencial</td>\n",
              "      <td>Modelo 100% remoto</td>\n",
              "      <td>12000.0</td>\n",
              "    </tr>\n",
              "  </tbody>\n",
              "</table>\n",
              "</div>\n",
              "      <button class=\"colab-df-convert\" onclick=\"convertToInteractive('df-c56e98fc-5972-4a67-825c-18ba338a9782')\"\n",
              "              title=\"Convert this dataframe to an interactive table.\"\n",
              "              style=\"display:none;\">\n",
              "        \n",
              "  <svg xmlns=\"http://www.w3.org/2000/svg\" height=\"24px\"viewBox=\"0 0 24 24\"\n",
              "       width=\"24px\">\n",
              "    <path d=\"M0 0h24v24H0V0z\" fill=\"none\"/>\n",
              "    <path d=\"M18.56 5.44l.94 2.06.94-2.06 2.06-.94-2.06-.94-.94-2.06-.94 2.06-2.06.94zm-11 1L8.5 8.5l.94-2.06 2.06-.94-2.06-.94L8.5 2.5l-.94 2.06-2.06.94zm10 10l.94 2.06.94-2.06 2.06-.94-2.06-.94-.94-2.06-.94 2.06-2.06.94z\"/><path d=\"M17.41 7.96l-1.37-1.37c-.4-.4-.92-.59-1.43-.59-.52 0-1.04.2-1.43.59L10.3 9.45l-7.72 7.72c-.78.78-.78 2.05 0 2.83L4 21.41c.39.39.9.59 1.41.59.51 0 1.02-.2 1.41-.59l7.78-7.78 2.81-2.81c.8-.78.8-2.07 0-2.86zM5.41 20L4 18.59l7.72-7.72 1.47 1.35L5.41 20z\"/>\n",
              "  </svg>\n",
              "      </button>\n",
              "      \n",
              "  <style>\n",
              "    .colab-df-container {\n",
              "      display:flex;\n",
              "      flex-wrap:wrap;\n",
              "      gap: 12px;\n",
              "    }\n",
              "\n",
              "    .colab-df-convert {\n",
              "      background-color: #E8F0FE;\n",
              "      border: none;\n",
              "      border-radius: 50%;\n",
              "      cursor: pointer;\n",
              "      display: none;\n",
              "      fill: #1967D2;\n",
              "      height: 32px;\n",
              "      padding: 0 0 0 0;\n",
              "      width: 32px;\n",
              "    }\n",
              "\n",
              "    .colab-df-convert:hover {\n",
              "      background-color: #E2EBFA;\n",
              "      box-shadow: 0px 1px 2px rgba(60, 64, 67, 0.3), 0px 1px 3px 1px rgba(60, 64, 67, 0.15);\n",
              "      fill: #174EA6;\n",
              "    }\n",
              "\n",
              "    [theme=dark] .colab-df-convert {\n",
              "      background-color: #3B4455;\n",
              "      fill: #D2E3FC;\n",
              "    }\n",
              "\n",
              "    [theme=dark] .colab-df-convert:hover {\n",
              "      background-color: #434B5C;\n",
              "      box-shadow: 0px 1px 3px 1px rgba(0, 0, 0, 0.15);\n",
              "      filter: drop-shadow(0px 1px 2px rgba(0, 0, 0, 0.3));\n",
              "      fill: #FFFFFF;\n",
              "    }\n",
              "  </style>\n",
              "\n",
              "      <script>\n",
              "        const buttonEl =\n",
              "          document.querySelector('#df-c56e98fc-5972-4a67-825c-18ba338a9782 button.colab-df-convert');\n",
              "        buttonEl.style.display =\n",
              "          google.colab.kernel.accessAllowed ? 'block' : 'none';\n",
              "\n",
              "        async function convertToInteractive(key) {\n",
              "          const element = document.querySelector('#df-c56e98fc-5972-4a67-825c-18ba338a9782');\n",
              "          const dataTable =\n",
              "            await google.colab.kernel.invokeFunction('convertToInteractive',\n",
              "                                                     [key], {});\n",
              "          if (!dataTable) return;\n",
              "\n",
              "          const docLinkHtml = 'Like what you see? Visit the ' +\n",
              "            '<a target=\"_blank\" href=https://colab.research.google.com/notebooks/data_table.ipynb>data table notebook</a>'\n",
              "            + ' to learn more about interactive tables.';\n",
              "          element.innerHTML = '';\n",
              "          dataTable['output_type'] = 'display_data';\n",
              "          await google.colab.output.renderOutput(dataTable, element);\n",
              "          const docLink = document.createElement('div');\n",
              "          docLink.innerHTML = docLinkHtml;\n",
              "          element.appendChild(docLink);\n",
              "        }\n",
              "      </script>\n",
              "    </div>\n",
              "  </div>\n",
              "  "
            ]
          },
          "metadata": {},
          "execution_count": 18
        }
      ]
    },
    {
      "cell_type": "code",
      "source": [
        "df.info()"
      ],
      "metadata": {
        "colab": {
          "base_uri": "https://localhost:8080/"
        },
        "id": "oGCKELF0oJdF",
        "outputId": "54e0624b-4185-43ac-9b73-8c0f208d6a95"
      },
      "execution_count": null,
      "outputs": [
        {
          "output_type": "stream",
          "name": "stdout",
          "text": [
            "<class 'pandas.core.frame.DataFrame'>\n",
            "RangeIndex: 2365 entries, 0 to 2364\n",
            "Data columns (total 20 columns):\n",
            " #   Column                         Non-Null Count  Dtype  \n",
            "---  ------                         --------------  -----  \n",
            " 0   Idade                          2341 non-null   float64\n",
            " 1   Genero                         2365 non-null   object \n",
            " 2   UF                             2339 non-null   object \n",
            " 3   Regiao_origem                  431 non-null    object \n",
            " 4   Nivel Ensino                   2365 non-null   object \n",
            " 5   Area Formacao                  2311 non-null   object \n",
            " 6   Situacao Trabalho              2365 non-null   object \n",
            " 7   Setor                          2365 non-null   object \n",
            " 8   Trabalha como Gestao           2365 non-null   float64\n",
            " 9   Cargo como Gestor(a)           508 non-null    object \n",
            " 10  Cargo Atual                    1857 non-null   object \n",
            " 11  Nivel                          2365 non-null   object \n",
            " 12  Faixa Salarial                 2365 non-null   object \n",
            " 13  Insatisfacao com a Empresa     612 non-null    object \n",
            " 14  Tempo XP em Dados              2365 non-null   object \n",
            " 15  Tempo XP em Software           2365 non-null   object \n",
            " 16  Criterios de escolha trabalho  2351 non-null   object \n",
            " 17  Forma de trabalho atual        2365 non-null   object \n",
            " 18  Forma de trabalho desejada     2365 non-null   object \n",
            " 19  Faixa Salarial_number          2365 non-null   float64\n",
            "dtypes: float64(3), object(17)\n",
            "memory usage: 369.7+ KB\n"
          ]
        }
      ]
    },
    {
      "cell_type": "markdown",
      "source": [
        "## Definição da Visualização\n",
        "Primeira etapa da nossa visualização é definir nossas perguntas, o que queremos responder com esses dados??\n",
        "\n",
        "**Pergunta: Mulheres ganham menos que homens?**\n",
        "\n",
        "## Primeiros Gráficos\n",
        "Vamos analisar algumas coisas antes de responder essa pergunta\n",
        "\n",
        "### 1. Distribuição de mulheres e homens no dataset"
      ],
      "metadata": {
        "id": "ygqp0qC0oZj1"
      }
    },
    {
      "cell_type": "code",
      "source": [
        "df[\"Genero\"].value_counts()"
      ],
      "metadata": {
        "colab": {
          "base_uri": "https://localhost:8080/"
        },
        "id": "uEAYu6uloM9N",
        "outputId": "42c9ec23-96b7-4189-c217-8dfe6e4a9bf5"
      },
      "execution_count": null,
      "outputs": [
        {
          "output_type": "execute_result",
          "data": {
            "text/plain": [
              "Masculino    1924\n",
              "Feminino      436\n",
              "Outro           5\n",
              "Name: Genero, dtype: int64"
            ]
          },
          "metadata": {},
          "execution_count": 12
        }
      ]
    },
    {
      "cell_type": "code",
      "source": [
        "plt.bar(df[\"Genero\"].unique(), df[\"Genero\"].value_counts())\n",
        "plt.title(\"Distribuição de Gênero na Área de Dados\")\n",
        "plt.xlabel(\"Gênero\")\n",
        "plt.ylabel(\"Total\")"
      ],
      "metadata": {
        "colab": {
          "base_uri": "https://localhost:8080/",
          "height": 314
        },
        "id": "NcXMx12nont3",
        "outputId": "90dcdff6-87b2-40fd-ca3f-b5514897eb87"
      },
      "execution_count": null,
      "outputs": [
        {
          "output_type": "execute_result",
          "data": {
            "text/plain": [
              "Text(0, 0.5, 'Total')"
            ]
          },
          "metadata": {},
          "execution_count": 13
        },
        {
          "output_type": "display_data",
          "data": {
            "text/plain": [
              "<Figure size 432x288 with 1 Axes>"
            ],
            "image/png": "[encoded data removed]"
          },
          "metadata": {
            "needs_background": "light"
          }
        }
      ]
    },
    {
      "cell_type": "code",
      "source": [
        "sns.countplot(y=\"Genero\", data=df, palette=\"inferno\", order=df[\"Genero\"].value_counts().index) \\\n",
        ".set_title(\"Distribuição de Gênero na Área de Dados\")"
      ],
      "metadata": {
        "colab": {
          "base_uri": "https://localhost:8080/",
          "height": 314
        },
        "id": "aS0_LLn7o7Cf",
        "outputId": "196d84e6-3e3a-4819-fbdb-124b1ba2c916"
      },
      "execution_count": null,
      "outputs": [
        {
          "output_type": "execute_result",
          "data": {
            "text/plain": [
              "Text(0.5, 1.0, 'Distribuição de Gênero na Área de Dados')"
            ]
          },
          "metadata": {},
          "execution_count": 14
        },
        {
          "output_type": "display_data",
          "data": {
            "text/plain": [
              "<Figure size 432x288 with 1 Axes>"
            ],
            "image/png": "[encoded data removed]"
          },
          "metadata": {
            "needs_background": "light"
          }
        }
      ]
    },
    {
      "cell_type": "code",
      "source": [
        "tmp = pd.DataFrame(df['Genero'].value_counts())\n",
        "tmp.plot.pie(y='Genero', figsize=(10, 10),autopct='%.2f', title='Porcentagem de Pessoas por Gênero na Área Dados', \n",
        "                 startangle=90,legend=False, ylabel=None, colors=['blue', 'red', 'green'])"
      ],
      "metadata": {
        "colab": {
          "base_uri": "https://localhost:8080/",
          "height": 609
        },
        "id": "jD0xAKK5pPQd",
        "outputId": "4092c4e7-34c0-4294-ccb8-82614a741178"
      },
      "execution_count": null,
      "outputs": [
        {
          "output_type": "execute_result",
          "data": {
            "text/plain": [
              "<matplotlib.axes._subplots.AxesSubplot at 0x7fe27a2053d0>"
            ]
          },
          "metadata": {},
          "execution_count": 16
        },
        {
          "output_type": "display_data",
          "data": {
            "text/plain": [
              "<Figure size 720x720 with 1 Axes>"
            ],
            "image/png": "[encoded data removed]"
          },
          "metadata": {}
        }
      ]
    },
    {
      "cell_type": "markdown",
      "source": [
        "### TAREFA PARA CASA - Distribuição de Cargos\n",
        "\n",
        "Vimos 3 formas de criar gráficos:\n",
        "\n",
        "* pelo matplotlib\n",
        "* pelo seaborn\n",
        "* direto pelo dataframe\n",
        "\n",
        "#### Escolha uma das formas e plot a distribuição dos Cargos"
      ],
      "metadata": {
        "id": "1q988nQ0qofR"
      }
    },
    {
      "cell_type": "code",
      "source": [
        "df[\"Trabalha como Gestao\"].value_counts()"
      ],
      "metadata": {
        "colab": {
          "base_uri": "https://localhost:8080/"
        },
        "id": "cHlV9FWLqaal",
        "outputId": "af87d815-89dd-4b69-9669-8839ad3a50bb"
      },
      "execution_count": null,
      "outputs": [
        {
          "output_type": "execute_result",
          "data": {
            "text/plain": [
              "0.0    1857\n",
              "1.0     508\n",
              "Name: Trabalha como Gestao, dtype: int64"
            ]
          },
          "metadata": {},
          "execution_count": 20
        }
      ]
    },
    {
      "cell_type": "code",
      "source": [
        "df.groupby(\"Genero\")[\"Trabalha como Gestao\"].value_counts()"
      ],
      "metadata": {
        "colab": {
          "base_uri": "https://localhost:8080/"
        },
        "id": "uekrlWuKrMmS",
        "outputId": "036793bd-d43d-4ed5-f8ba-5a1e0832d9dc"
      },
      "execution_count": null,
      "outputs": [
        {
          "output_type": "execute_result",
          "data": {
            "text/plain": [
              "Genero     Trabalha como Gestao\n",
              "Feminino   0.0                      369\n",
              "           1.0                       67\n",
              "Masculino  0.0                     1483\n",
              "           1.0                      441\n",
              "Outro      0.0                        5\n",
              "Name: Trabalha como Gestao, dtype: int64"
            ]
          },
          "metadata": {},
          "execution_count": 21
        }
      ]
    },
    {
      "cell_type": "code",
      "source": [
        "sns.histplot(x=\"Trabalha como Gestao\" , hue=\"Genero\", data=df, palette=\"Paired\",linewidth=.5) \\\n",
        ".set_title(\"Distribuição de Cargos de Gestão por Gênero na Área de Dados\")"
      ],
      "metadata": {
        "colab": {
          "base_uri": "https://localhost:8080/",
          "height": 314
        },
        "id": "J-Oct3JyrZVb",
        "outputId": "54b2d492-620c-4a6f-bd12-8ccfe738eb59"
      },
      "execution_count": null,
      "outputs": [
        {
          "output_type": "execute_result",
          "data": {
            "text/plain": [
              "Text(0.5, 1.0, 'Distribuição de Cargos de Gestão por Gênero na Área de Dados')"
            ]
          },
          "metadata": {},
          "execution_count": 39
        },
        {
          "output_type": "display_data",
          "data": {
            "text/plain": [
              "<Figure size 432x288 with 1 Axes>"
            ],
            "image/png": "[encoded data removed]"
          },
          "metadata": {
            "needs_background": "light"
          }
        }
      ]
    },
    {
      "cell_type": "code",
      "source": [
        "df[\"Cargo como Gestor(a)\"].value_counts()"
      ],
      "metadata": {
        "colab": {
          "base_uri": "https://localhost:8080/"
        },
        "id": "ai5C1x3zrnbE",
        "outputId": "a3ccb0c9-b6d3-4d72-b689-d84fa174c397"
      },
      "execution_count": null,
      "outputs": [
        {
          "output_type": "execute_result",
          "data": {
            "text/plain": [
              "Gerente/Head/Diretor/VP                      196\n",
              "Supervisor/Coordenador                       129\n",
              "Team Leader/Tech Leader                      112\n",
              "Sócio ou C-level (CEO, CDO, CIO, CTO etc)     71\n",
              "Name: Cargo como Gestor(a), dtype: int64"
            ]
          },
          "metadata": {},
          "execution_count": 40
        }
      ]
    },
    {
      "cell_type": "code",
      "source": [
        "df.groupby(\"Genero\")[\"Cargo como Gestor(a)\"].value_counts()"
      ],
      "metadata": {
        "colab": {
          "base_uri": "https://localhost:8080/"
        },
        "id": "Oe_k9jT-yIuJ",
        "outputId": "56370fc2-08fe-4a32-928e-af7ec9a01221"
      },
      "execution_count": null,
      "outputs": [
        {
          "output_type": "execute_result",
          "data": {
            "text/plain": [
              "Genero     Cargo como Gestor(a)                     \n",
              "Feminino   Gerente/Head/Diretor/VP                       25\n",
              "           Supervisor/Coordenador                        20\n",
              "           Team Leader/Tech Leader                       15\n",
              "           Sócio ou C-level (CEO, CDO, CIO, CTO etc)      7\n",
              "Masculino  Gerente/Head/Diretor/VP                      171\n",
              "           Supervisor/Coordenador                       109\n",
              "           Team Leader/Tech Leader                       97\n",
              "           Sócio ou C-level (CEO, CDO, CIO, CTO etc)     64\n",
              "Name: Cargo como Gestor(a), dtype: int64"
            ]
          },
          "metadata": {},
          "execution_count": 41
        }
      ]
    },
    {
      "cell_type": "code",
      "source": [
        "df[\"Cargo como Gestor(a)\"].loc[df[\"Genero\"] == \"Feminino\"].value_counts() / df.loc[df[\"Genero\"] == \"Feminino\"].shape[0] *100"
      ],
      "metadata": {
        "colab": {
          "base_uri": "https://localhost:8080/"
        },
        "id": "kFCPRiNVyOcR",
        "outputId": "a7edd3e0-2b68-4494-c757-ff56c762e09d"
      },
      "execution_count": null,
      "outputs": [
        {
          "output_type": "execute_result",
          "data": {
            "text/plain": [
              "Gerente/Head/Diretor/VP                      5.733945\n",
              "Supervisor/Coordenador                       4.587156\n",
              "Team Leader/Tech Leader                      3.440367\n",
              "Sócio ou C-level (CEO, CDO, CIO, CTO etc)    1.605505\n",
              "Name: Cargo como Gestor(a), dtype: float64"
            ]
          },
          "metadata": {},
          "execution_count": 43
        }
      ]
    },
    {
      "cell_type": "code",
      "source": [
        "df[\"Cargo como Gestor(a)\"].loc[df[\"Genero\"] == \"Masculino\"].value_counts() / df.loc[df[\"Genero\"] == \"Masculino\"].shape[0] *100"
      ],
      "metadata": {
        "colab": {
          "base_uri": "https://localhost:8080/"
        },
        "id": "pkNRIcfZydH5",
        "outputId": "cca96eb7-cdd8-4a34-dacc-8be1daeb637b"
      },
      "execution_count": null,
      "outputs": [
        {
          "output_type": "execute_result",
          "data": {
            "text/plain": [
              "Gerente/Head/Diretor/VP                      8.887734\n",
              "Supervisor/Coordenador                       5.665281\n",
              "Team Leader/Tech Leader                      5.041580\n",
              "Sócio ou C-level (CEO, CDO, CIO, CTO etc)    3.326403\n",
              "Name: Cargo como Gestor(a), dtype: float64"
            ]
          },
          "metadata": {},
          "execution_count": 45
        }
      ]
    },
    {
      "cell_type": "code",
      "source": [
        "f, ax = plt.subplots(figsize=(20, 10))\n",
        "sns.despine(f)\n",
        "sns.histplot(x=\"Cargo como Gestor(a)\" , hue=\"Genero\", data=df, palette=\"Paired\",linewidth=.5) \\\n",
        ".set_title(\"Distribuição dos Cargos de Gestão por Gênero na Área de Dados\")"
      ],
      "metadata": {
        "colab": {
          "base_uri": "https://localhost:8080/",
          "height": 520
        },
        "id": "9b9wes1DypPY",
        "outputId": "7c2675c8-73db-474a-efc3-5f1ce50ce1ec"
      },
      "execution_count": null,
      "outputs": [
        {
          "output_type": "execute_result",
          "data": {
            "text/plain": [
              "Text(0.5, 1.0, 'Distribuição dos Cargos de Gestão por Gênero na Área de Dados')"
            ]
          },
          "metadata": {},
          "execution_count": 50
        },
        {
          "output_type": "display_data",
          "data": {
            "text/plain": [
              "<Figure size 1440x720 with 1 Axes>"
            ],
            "image/png": "[encoded data removed]"
          },
          "metadata": {
            "needs_background": "light"
          }
        }
      ]
    },
    {
      "cell_type": "code",
      "source": [
        "df[\"Cargo Atual\"].value_counts()"
      ],
      "metadata": {
        "colab": {
          "base_uri": "https://localhost:8080/"
        },
        "id": "BcClZTc4y9z4",
        "outputId": "36de39a0-14bb-4f09-ace9-27ae6d057a9d"
      },
      "execution_count": null,
      "outputs": [
        {
          "output_type": "execute_result",
          "data": {
            "text/plain": [
              "Cientista de Dados/Data Scientist                          357\n",
              "Analista de BI/BI Analyst/Analytics Engineer               338\n",
              "Analista de Dados/Data Analyst                             324\n",
              "Engenheiro de Dados/Data Engineer                          300\n",
              "Outro                                                      113\n",
              "Analista de Negócios/Business Analyst                       96\n",
              "Desenvolvedor ou Engenheiro de Software                     92\n",
              "Engenheiro de Machine Learning/ML Engineer                  48\n",
              "Outras Engenharias (não inclui dev)                         33\n",
              "Estatístico                                                 25\n",
              "Analista Administrativo                                     18\n",
              "Analista de Inteligência de Mercado/Market Intelligence     18\n",
              "Analista de Marketing                                       14\n",
              "DBA/Administrador de Banco de Dados                         14\n",
              "Analista de Sistemas/Analista de TI                         14\n",
              "Técnico                                                     13\n",
              "Suporte Técnico                                             13\n",
              "Professor                                                   12\n",
              "Arquiteto de Dados                                           7\n",
              "Product Manager                                              6\n",
              "Arquiteto de dados                                           2\n",
              "Name: Cargo Atual, dtype: int64"
            ]
          },
          "metadata": {},
          "execution_count": 51
        }
      ]
    },
    {
      "cell_type": "code",
      "source": [
        "df.groupby(\"Genero\")[\"Cargo Atual\"].value_counts()"
      ],
      "metadata": {
        "colab": {
          "base_uri": "https://localhost:8080/"
        },
        "id": "A9t8YMcwzhM4",
        "outputId": "2738a5b1-d5dd-46f0-9c3f-5ff87ea7c079"
      },
      "execution_count": null,
      "outputs": [
        {
          "output_type": "execute_result",
          "data": {
            "text/plain": [
              "Genero     Cargo Atual                                            \n",
              "Feminino   Analista de Dados/Data Analyst                              83\n",
              "           Cientista de Dados/Data Scientist                           68\n",
              "           Analista de BI/BI Analyst/Analytics Engineer                67\n",
              "           Engenheiro de Dados/Data Engineer                           40\n",
              "           Analista de Negócios/Business Analyst                       25\n",
              "           Outro                                                       23\n",
              "           Desenvolvedor ou Engenheiro de Software                     13\n",
              "           Engenheiro de Machine Learning/ML Engineer                   9\n",
              "           Estatístico                                                  9\n",
              "           Analista Administrativo                                      6\n",
              "           Analista de Inteligência de Mercado/Market Intelligence      5\n",
              "           Professor                                                    4\n",
              "           Suporte Técnico                                              4\n",
              "           Analista de Marketing                                        3\n",
              "           Outras Engenharias (não inclui dev)                          3\n",
              "           Product Manager                                              3\n",
              "           Técnico                                                      2\n",
              "           Analista de Sistemas/Analista de TI                          1\n",
              "           DBA/Administrador de Banco de Dados                          1\n",
              "Masculino  Cientista de Dados/Data Scientist                          289\n",
              "           Analista de BI/BI Analyst/Analytics Engineer               271\n",
              "           Engenheiro de Dados/Data Engineer                          259\n",
              "           Analista de Dados/Data Analyst                             241\n",
              "           Outro                                                       90\n",
              "           Desenvolvedor ou Engenheiro de Software                     77\n",
              "           Analista de Negócios/Business Analyst                       71\n",
              "           Engenheiro de Machine Learning/ML Engineer                  39\n",
              "           Outras Engenharias (não inclui dev)                         29\n",
              "           Estatístico                                                 16\n",
              "           Analista de Inteligência de Mercado/Market Intelligence     13\n",
              "           Analista de Sistemas/Analista de TI                         13\n",
              "           DBA/Administrador de Banco de Dados                         13\n",
              "           Analista Administrativo                                     12\n",
              "           Técnico                                                     11\n",
              "           Analista de Marketing                                       10\n",
              "           Suporte Técnico                                              9\n",
              "           Professor                                                    8\n",
              "           Arquiteto de Dados                                           7\n",
              "           Product Manager                                              3\n",
              "           Arquiteto de dados                                           2\n",
              "Outro      Desenvolvedor ou Engenheiro de Software                      2\n",
              "           Analista de Marketing                                        1\n",
              "           Engenheiro de Dados/Data Engineer                            1\n",
              "           Outras Engenharias (não inclui dev)                          1\n",
              "Name: Cargo Atual, dtype: int64"
            ]
          },
          "metadata": {},
          "execution_count": 52
        }
      ]
    },
    {
      "cell_type": "markdown",
      "source": [
        "### Vamos agora analisar a distribuição de nível por gênero:\n"
      ],
      "metadata": {
        "id": "to3GAxW9z30j"
      }
    },
    {
      "cell_type": "code",
      "source": [
        "tmp = df.groupby(\"Genero\")[\"Nivel\"].value_counts()\n",
        "tmp"
      ],
      "metadata": {
        "colab": {
          "base_uri": "https://localhost:8080/"
        },
        "id": "qkNbAzuBzqiZ",
        "outputId": "5ce4f9c8-289a-49d1-fbd3-e47fe794cded"
      },
      "execution_count": null,
      "outputs": [
        {
          "output_type": "execute_result",
          "data": {
            "text/plain": [
              "Genero     Nivel \n",
              "Feminino   Júnior    144\n",
              "           Pleno     131\n",
              "           Sênior     94\n",
              "           Gestor     67\n",
              "Masculino  Pleno     525\n",
              "           Sênior    484\n",
              "           Júnior    474\n",
              "           Gestor    441\n",
              "Outro      Júnior      3\n",
              "           Pleno       2\n",
              "Name: Nivel, dtype: int64"
            ]
          },
          "metadata": {},
          "execution_count": 54
        }
      ]
    },
    {
      "cell_type": "code",
      "source": [
        "tmp = tmp.reset_index(name=\"total\")\n",
        "tmp"
      ],
      "metadata": {
        "colab": {
          "base_uri": "https://localhost:8080/",
          "height": 363
        },
        "id": "zejgdUcy0BMo",
        "outputId": "b3138855-fe28-4b8a-b150-1ea5c1850c21"
      },
      "execution_count": null,
      "outputs": [
        {
          "output_type": "execute_result",
          "data": {
            "text/plain": [
              "      Genero   Nivel  total\n",
              "0   Feminino  Júnior    144\n",
              "1   Feminino   Pleno    131\n",
              "2   Feminino  Sênior     94\n",
              "3   Feminino  Gestor     67\n",
              "4  Masculino   Pleno    525\n",
              "5  Masculino  Sênior    484\n",
              "6  Masculino  Júnior    474\n",
              "7  Masculino  Gestor    441\n",
              "8      Outro  Júnior      3\n",
              "9      Outro   Pleno      2"
            ],
            "text/html": [
              "\n",
              "  <div id=\"df-cab8ca3f-9d64-468a-9724-c95192cd3006\">\n",
              "    <div class=\"colab-df-container\">\n",
              "      <div>\n",
              "<style scoped>\n",
              "    .dataframe tbody tr th:only-of-type {\n",
              "        vertical-align: middle;\n",
              "    }\n",
              "\n",
              "    .dataframe tbody tr th {\n",
              "        vertical-align: top;\n",
              "    }\n",
              "\n",
              "    .dataframe thead th {\n",
              "        text-align: right;\n",
              "    }\n",
              "</style>\n",
              "<table border=\"1\" class=\"dataframe\">\n",
              "  <thead>\n",
              "    <tr style=\"text-align: right;\">\n",
              "      <th></th>\n",
              "      <th>Genero</th>\n",
              "      <th>Nivel</th>\n",
              "      <th>total</th>\n",
              "    </tr>\n",
              "  </thead>\n",
              "  <tbody>\n",
              "    <tr>\n",
              "      <th>0</th>\n",
              "      <td>Feminino</td>\n",
              "      <td>Júnior</td>\n",
              "      <td>144</td>\n",
              "    </tr>\n",
              "    <tr>\n",
              "      <th>1</th>\n",
              "      <td>Feminino</td>\n",
              "      <td>Pleno</td>\n",
              "      <td>131</td>\n",
              "    </tr>\n",
              "    <tr>\n",
              "      <th>2</th>\n",
              "      <td>Feminino</td>\n",
              "      <td>Sênior</td>\n",
              "      <td>94</td>\n",
              "    </tr>\n",
              "    <tr>\n",
              "      <th>3</th>\n",
              "      <td>Feminino</td>\n",
              "      <td>Gestor</td>\n",
              "      <td>67</td>\n",
              "    </tr>\n",
              "    <tr>\n",
              "      <th>4</th>\n",
              "      <td>Masculino</td>\n",
              "      <td>Pleno</td>\n",
              "      <td>525</td>\n",
              "    </tr>\n",
              "    <tr>\n",
              "      <th>5</th>\n",
              "      <td>Masculino</td>\n",
              "      <td>Sênior</td>\n",
              "      <td>484</td>\n",
              "    </tr>\n",
              "    <tr>\n",
              "      <th>6</th>\n",
              "      <td>Masculino</td>\n",
              "      <td>Júnior</td>\n",
              "      <td>474</td>\n",
              "    </tr>\n",
              "    <tr>\n",
              "      <th>7</th>\n",
              "      <td>Masculino</td>\n",
              "      <td>Gestor</td>\n",
              "      <td>441</td>\n",
              "    </tr>\n",
              "    <tr>\n",
              "      <th>8</th>\n",
              "      <td>Outro</td>\n",
              "      <td>Júnior</td>\n",
              "      <td>3</td>\n",
              "    </tr>\n",
              "    <tr>\n",
              "      <th>9</th>\n",
              "      <td>Outro</td>\n",
              "      <td>Pleno</td>\n",
              "      <td>2</td>\n",
              "    </tr>\n",
              "  </tbody>\n",
              "</table>\n",
              "</div>\n",
              "      <button class=\"colab-df-convert\" onclick=\"convertToInteractive('df-cab8ca3f-9d64-468a-9724-c95192cd3006')\"\n",
              "              title=\"Convert this dataframe to an interactive table.\"\n",
              "              style=\"display:none;\">\n",
              "        \n",
              "  <svg xmlns=\"http://www.w3.org/2000/svg\" height=\"24px\"viewBox=\"0 0 24 24\"\n",
              "       width=\"24px\">\n",
              "    <path d=\"M0 0h24v24H0V0z\" fill=\"none\"/>\n",
              "    <path d=\"M18.56 5.44l.94 2.06.94-2.06 2.06-.94-2.06-.94-.94-2.06-.94 2.06-2.06.94zm-11 1L8.5 8.5l.94-2.06 2.06-.94-2.06-.94L8.5 2.5l-.94 2.06-2.06.94zm10 10l.94 2.06.94-2.06 2.06-.94-2.06-.94-.94-2.06-.94 2.06-2.06.94z\"/><path d=\"M17.41 7.96l-1.37-1.37c-.4-.4-.92-.59-1.43-.59-.52 0-1.04.2-1.43.59L10.3 9.45l-7.72 7.72c-.78.78-.78 2.05 0 2.83L4 21.41c.39.39.9.59 1.41.59.51 0 1.02-.2 1.41-.59l7.78-7.78 2.81-2.81c.8-.78.8-2.07 0-2.86zM5.41 20L4 18.59l7.72-7.72 1.47 1.35L5.41 20z\"/>\n",
              "  </svg>\n",
              "      </button>\n",
              "      \n",
              "  <style>\n",
              "    .colab-df-container {\n",
              "      display:flex;\n",
              "      flex-wrap:wrap;\n",
              "      gap: 12px;\n",
              "    }\n",
              "\n",
              "    .colab-df-convert {\n",
              "      background-color: #E8F0FE;\n",
              "      border: none;\n",
              "      border-radius: 50%;\n",
              "      cursor: pointer;\n",
              "      display: none;\n",
              "      fill: #1967D2;\n",
              "      height: 32px;\n",
              "      padding: 0 0 0 0;\n",
              "      width: 32px;\n",
              "    }\n",
              "\n",
              "    .colab-df-convert:hover {\n",
              "      background-color: #E2EBFA;\n",
              "      box-shadow: 0px 1px 2px rgba(60, 64, 67, 0.3), 0px 1px 3px 1px rgba(60, 64, 67, 0.15);\n",
              "      fill: #174EA6;\n",
              "    }\n",
              "\n",
              "    [theme=dark] .colab-df-convert {\n",
              "      background-color: #3B4455;\n",
              "      fill: #D2E3FC;\n",
              "    }\n",
              "\n",
              "    [theme=dark] .colab-df-convert:hover {\n",
              "      background-color: #434B5C;\n",
              "      box-shadow: 0px 1px 3px 1px rgba(0, 0, 0, 0.15);\n",
              "      filter: drop-shadow(0px 1px 2px rgba(0, 0, 0, 0.3));\n",
              "      fill: #FFFFFF;\n",
              "    }\n",
              "  </style>\n",
              "\n",
              "      <script>\n",
              "        const buttonEl =\n",
              "          document.querySelector('#df-cab8ca3f-9d64-468a-9724-c95192cd3006 button.colab-df-convert');\n",
              "        buttonEl.style.display =\n",
              "          google.colab.kernel.accessAllowed ? 'block' : 'none';\n",
              "\n",
              "        async function convertToInteractive(key) {\n",
              "          const element = document.querySelector('#df-cab8ca3f-9d64-468a-9724-c95192cd3006');\n",
              "          const dataTable =\n",
              "            await google.colab.kernel.invokeFunction('convertToInteractive',\n",
              "                                                     [key], {});\n",
              "          if (!dataTable) return;\n",
              "\n",
              "          const docLinkHtml = 'Like what you see? Visit the ' +\n",
              "            '<a target=\"_blank\" href=https://colab.research.google.com/notebooks/data_table.ipynb>data table notebook</a>'\n",
              "            + ' to learn more about interactive tables.';\n",
              "          element.innerHTML = '';\n",
              "          dataTable['output_type'] = 'display_data';\n",
              "          await google.colab.output.renderOutput(dataTable, element);\n",
              "          const docLink = document.createElement('div');\n",
              "          docLink.innerHTML = docLinkHtml;\n",
              "          element.appendChild(docLink);\n",
              "        }\n",
              "      </script>\n",
              "    </div>\n",
              "  </div>\n",
              "  "
            ]
          },
          "metadata": {},
          "execution_count": 55
        }
      ]
    },
    {
      "cell_type": "code",
      "source": [
        "plt.figure(figsize=(20,10))\n",
        "sns.barplot(x=\"Nivel\", y=\"total\", hue=\"Genero\", data=tmp, hue_order=[\"Masculino\", \"Feminino\", \"Outro\"], palette=\"inferno\")"
      ],
      "metadata": {
        "colab": {
          "base_uri": "https://localhost:8080/",
          "height": 506
        },
        "id": "nv8M9QhM0OTK",
        "outputId": "b9762461-37d9-4866-d946-dd3a8e50df97"
      },
      "execution_count": null,
      "outputs": [
        {
          "output_type": "execute_result",
          "data": {
            "text/plain": [
              "<matplotlib.axes._subplots.AxesSubplot at 0x7fe278bb0cd0>"
            ]
          },
          "metadata": {},
          "execution_count": 56
        },
        {
          "output_type": "display_data",
          "data": {
            "text/plain": [
              "<Figure size 1440x720 with 1 Axes>"
            ],
            "image/png": "[encoded data removed]"
          },
          "metadata": {
            "needs_background": "light"
          }
        }
      ]
    },
    {
      "cell_type": "markdown",
      "source": [
        "Essa visualização está boa?\n",
        "\n",
        "Conseguimos ver a diferença de nível caindo?\n",
        "\n",
        "O que poderíamos mudar para melhorar??"
      ],
      "metadata": {
        "id": "q-W_3tvN03u3"
      }
    },
    {
      "cell_type": "code",
      "source": [
        "plt.figure(figsize=(10,5))\n",
        "sns.lineplot(x=\"Nivel\", y=\"total\", hue=\"Genero\", data=tmp, hue_order=[\"Masculino\", \"Feminino\", \"Outro\"], palette=\"inferno\")"
      ],
      "metadata": {
        "colab": {
          "base_uri": "https://localhost:8080/",
          "height": 351
        },
        "id": "-_rw5sxm0oi3",
        "outputId": "87f32d7f-5d5d-414b-da3e-4176a0807475"
      },
      "execution_count": null,
      "outputs": [
        {
          "output_type": "execute_result",
          "data": {
            "text/plain": [
              "<matplotlib.axes._subplots.AxesSubplot at 0x7fe278bea090>"
            ]
          },
          "metadata": {},
          "execution_count": 60
        },
        {
          "output_type": "display_data",
          "data": {
            "text/plain": [
              "<Figure size 720x360 with 1 Axes>"
            ],
            "image/png": "[encoded data removed]"
          },
          "metadata": {
            "needs_background": "light"
          }
        }
      ]
    },
    {
      "cell_type": "markdown",
      "source": [
        "### Vamos Analisar os Salários\n",
        "Primeiro vamos fazer um histograma para analisar a distribuição geral dos salários"
      ],
      "metadata": {
        "id": "P3GWEzle1r2Z"
      }
    },
    {
      "cell_type": "code",
      "source": [
        "df[\"Faixa Salarial_number\"].hist()"
      ],
      "metadata": {
        "colab": {
          "base_uri": "https://localhost:8080/",
          "height": 282
        },
        "id": "lq0Tru-61EHQ",
        "outputId": "e9632cbc-16d1-408a-805d-6498b85f03e0"
      },
      "execution_count": null,
      "outputs": [
        {
          "output_type": "execute_result",
          "data": {
            "text/plain": [
              "<matplotlib.axes._subplots.AxesSubplot at 0x7fe275e46650>"
            ]
          },
          "metadata": {},
          "execution_count": 61
        },
        {
          "output_type": "display_data",
          "data": {
            "text/plain": [
              "<Figure size 432x288 with 1 Axes>"
            ],
            "image/png": "[encoded data removed]"
          },
          "metadata": {
            "needs_background": "light"
          }
        }
      ]
    },
    {
      "cell_type": "markdown",
      "source": [
        "Gráfico de Gênero vs Salário\n",
        "\n",
        "Agora sim! Vamos ver a diferença de salários entre gêneros.\n",
        "\n",
        "Porém, não podemos comparar bananas com laranjas, vamos olhar primeiro somente para ciência de dados separando por nível."
      ],
      "metadata": {
        "id": "XXJwEMne1-dr"
      }
    },
    {
      "cell_type": "code",
      "source": [
        "df2 = df[df[\"Cargo Atual\"].str.contains(\"Cientista de Dados\", na = False)]"
      ],
      "metadata": {
        "id": "JnnRKZ_F14pv"
      },
      "execution_count": null,
      "outputs": []
    },
    {
      "cell_type": "code",
      "source": [
        "tmp = df2.groupby([\"Genero\", \"Nivel\"])[\"Faixa Salarial_number\"].mean()\n",
        "tmp"
      ],
      "metadata": {
        "colab": {
          "base_uri": "https://localhost:8080/"
        },
        "id": "tN-HipTn2LtA",
        "outputId": "ada67bd4-b667-4188-9a33-2db70dcafcd6"
      },
      "execution_count": null,
      "outputs": [
        {
          "output_type": "execute_result",
          "data": {
            "text/plain": [
              "Genero     Nivel \n",
              "Feminino   Júnior     5615.384615\n",
              "           Pleno      9600.000000\n",
              "           Sênior    13882.352941\n",
              "Masculino  Júnior     5247.191011\n",
              "           Pleno     10896.825397\n",
              "           Sênior    17500.000000\n",
              "Name: Faixa Salarial_number, dtype: float64"
            ]
          },
          "metadata": {},
          "execution_count": 83
        }
      ]
    },
    {
      "cell_type": "code",
      "source": [
        "tmp = tmp.reset_index(name=\"Salario Medio\")\n",
        "tmp"
      ],
      "metadata": {
        "colab": {
          "base_uri": "https://localhost:8080/",
          "height": 238
        },
        "id": "XyYnlpQO2WHn",
        "outputId": "f24664f7-8559-4fab-baf2-2488e1602b8c"
      },
      "execution_count": null,
      "outputs": [
        {
          "output_type": "execute_result",
          "data": {
            "text/plain": [
              "      Genero   Nivel  Salario Medio\n",
              "0   Feminino  Júnior    5615.384615\n",
              "1   Feminino   Pleno    9600.000000\n",
              "2   Feminino  Sênior   13882.352941\n",
              "3  Masculino  Júnior    5247.191011\n",
              "4  Masculino   Pleno   10896.825397\n",
              "5  Masculino  Sênior   17500.000000"
            ],
            "text/html": [
              "\n",
              "  <div id=\"df-ba70c68f-7a9f-41fc-a467-21ca2d48ae1d\">\n",
              "    <div class=\"colab-df-container\">\n",
              "      <div>\n",
              "<style scoped>\n",
              "    .dataframe tbody tr th:only-of-type {\n",
              "        vertical-align: middle;\n",
              "    }\n",
              "\n",
              "    .dataframe tbody tr th {\n",
              "        vertical-align: top;\n",
              "    }\n",
              "\n",
              "    .dataframe thead th {\n",
              "        text-align: right;\n",
              "    }\n",
              "</style>\n",
              "<table border=\"1\" class=\"dataframe\">\n",
              "  <thead>\n",
              "    <tr style=\"text-align: right;\">\n",
              "      <th></th>\n",
              "      <th>Genero</th>\n",
              "      <th>Nivel</th>\n",
              "      <th>Salario Medio</th>\n",
              "    </tr>\n",
              "  </thead>\n",
              "  <tbody>\n",
              "    <tr>\n",
              "      <th>0</th>\n",
              "      <td>Feminino</td>\n",
              "      <td>Júnior</td>\n",
              "      <td>5615.384615</td>\n",
              "    </tr>\n",
              "    <tr>\n",
              "      <th>1</th>\n",
              "      <td>Feminino</td>\n",
              "      <td>Pleno</td>\n",
              "      <td>9600.000000</td>\n",
              "    </tr>\n",
              "    <tr>\n",
              "      <th>2</th>\n",
              "      <td>Feminino</td>\n",
              "      <td>Sênior</td>\n",
              "      <td>13882.352941</td>\n",
              "    </tr>\n",
              "    <tr>\n",
              "      <th>3</th>\n",
              "      <td>Masculino</td>\n",
              "      <td>Júnior</td>\n",
              "      <td>5247.191011</td>\n",
              "    </tr>\n",
              "    <tr>\n",
              "      <th>4</th>\n",
              "      <td>Masculino</td>\n",
              "      <td>Pleno</td>\n",
              "      <td>10896.825397</td>\n",
              "    </tr>\n",
              "    <tr>\n",
              "      <th>5</th>\n",
              "      <td>Masculino</td>\n",
              "      <td>Sênior</td>\n",
              "      <td>17500.000000</td>\n",
              "    </tr>\n",
              "  </tbody>\n",
              "</table>\n",
              "</div>\n",
              "      <button class=\"colab-df-convert\" onclick=\"convertToInteractive('df-ba70c68f-7a9f-41fc-a467-21ca2d48ae1d')\"\n",
              "              title=\"Convert this dataframe to an interactive table.\"\n",
              "              style=\"display:none;\">\n",
              "        \n",
              "  <svg xmlns=\"http://www.w3.org/2000/svg\" height=\"24px\"viewBox=\"0 0 24 24\"\n",
              "       width=\"24px\">\n",
              "    <path d=\"M0 0h24v24H0V0z\" fill=\"none\"/>\n",
              "    <path d=\"M18.56 5.44l.94 2.06.94-2.06 2.06-.94-2.06-.94-.94-2.06-.94 2.06-2.06.94zm-11 1L8.5 8.5l.94-2.06 2.06-.94-2.06-.94L8.5 2.5l-.94 2.06-2.06.94zm10 10l.94 2.06.94-2.06 2.06-.94-2.06-.94-.94-2.06-.94 2.06-2.06.94z\"/><path d=\"M17.41 7.96l-1.37-1.37c-.4-.4-.92-.59-1.43-.59-.52 0-1.04.2-1.43.59L10.3 9.45l-7.72 7.72c-.78.78-.78 2.05 0 2.83L4 21.41c.39.39.9.59 1.41.59.51 0 1.02-.2 1.41-.59l7.78-7.78 2.81-2.81c.8-.78.8-2.07 0-2.86zM5.41 20L4 18.59l7.72-7.72 1.47 1.35L5.41 20z\"/>\n",
              "  </svg>\n",
              "      </button>\n",
              "      \n",
              "  <style>\n",
              "    .colab-df-container {\n",
              "      display:flex;\n",
              "      flex-wrap:wrap;\n",
              "      gap: 12px;\n",
              "    }\n",
              "\n",
              "    .colab-df-convert {\n",
              "      background-color: #E8F0FE;\n",
              "      border: none;\n",
              "      border-radius: 50%;\n",
              "      cursor: pointer;\n",
              "      display: none;\n",
              "      fill: #1967D2;\n",
              "      height: 32px;\n",
              "      padding: 0 0 0 0;\n",
              "      width: 32px;\n",
              "    }\n",
              "\n",
              "    .colab-df-convert:hover {\n",
              "      background-color: #E2EBFA;\n",
              "      box-shadow: 0px 1px 2px rgba(60, 64, 67, 0.3), 0px 1px 3px 1px rgba(60, 64, 67, 0.15);\n",
              "      fill: #174EA6;\n",
              "    }\n",
              "\n",
              "    [theme=dark] .colab-df-convert {\n",
              "      background-color: #3B4455;\n",
              "      fill: #D2E3FC;\n",
              "    }\n",
              "\n",
              "    [theme=dark] .colab-df-convert:hover {\n",
              "      background-color: #434B5C;\n",
              "      box-shadow: 0px 1px 3px 1px rgba(0, 0, 0, 0.15);\n",
              "      filter: drop-shadow(0px 1px 2px rgba(0, 0, 0, 0.3));\n",
              "      fill: #FFFFFF;\n",
              "    }\n",
              "  </style>\n",
              "\n",
              "      <script>\n",
              "        const buttonEl =\n",
              "          document.querySelector('#df-ba70c68f-7a9f-41fc-a467-21ca2d48ae1d button.colab-df-convert');\n",
              "        buttonEl.style.display =\n",
              "          google.colab.kernel.accessAllowed ? 'block' : 'none';\n",
              "\n",
              "        async function convertToInteractive(key) {\n",
              "          const element = document.querySelector('#df-ba70c68f-7a9f-41fc-a467-21ca2d48ae1d');\n",
              "          const dataTable =\n",
              "            await google.colab.kernel.invokeFunction('convertToInteractive',\n",
              "                                                     [key], {});\n",
              "          if (!dataTable) return;\n",
              "\n",
              "          const docLinkHtml = 'Like what you see? Visit the ' +\n",
              "            '<a target=\"_blank\" href=https://colab.research.google.com/notebooks/data_table.ipynb>data table notebook</a>'\n",
              "            + ' to learn more about interactive tables.';\n",
              "          element.innerHTML = '';\n",
              "          dataTable['output_type'] = 'display_data';\n",
              "          await google.colab.output.renderOutput(dataTable, element);\n",
              "          const docLink = document.createElement('div');\n",
              "          docLink.innerHTML = docLinkHtml;\n",
              "          element.appendChild(docLink);\n",
              "        }\n",
              "      </script>\n",
              "    </div>\n",
              "  </div>\n",
              "  "
            ]
          },
          "metadata": {},
          "execution_count": 84
        }
      ]
    },
    {
      "cell_type": "code",
      "source": [
        "plt.figure(figsize=(20,10))\n",
        "sns.barplot(x='Nivel', y='Salario Medio', hue='Genero', data=tmp, order=['Júnior', 'Pleno', 'Sênior', 'Gestor'], palette='inferno', hue_order=['Masculino', 'Feminino', 'Outro'])\n"
      ],
      "metadata": {
        "colab": {
          "base_uri": "https://localhost:8080/",
          "height": 501
        },
        "id": "3s05U6izEKD-",
        "outputId": "59e5fab2-5498-48c9-8046-5606170d8329"
      },
      "execution_count": null,
      "outputs": [
        {
          "output_type": "execute_result",
          "data": {
            "text/plain": [
              "<matplotlib.axes._subplots.AxesSubplot at 0x7fe278c7e810>"
            ]
          },
          "metadata": {},
          "execution_count": 86
        },
        {
          "output_type": "display_data",
          "data": {
            "text/plain": [
              "<Figure size 1440x720 with 1 Axes>"
            ],
            "image/png": "[encoded data removed]"
          },
          "metadata": {
            "needs_background": "light"
          }
        }
      ]
    },
    {
      "cell_type": "code",
      "source": [
        "#Vamos ver isso de outra forma, por tempo de experiencia\n",
        "tmp = df2.groupby(['Genero', 'Tempo XP em Dados'])['Faixa Salarial_number'].mean()\n",
        "tmp = tmp.reset_index(name='Salario Medio')\n",
        "plt.figure(figsize=(20,10))\n",
        "sns.barplot(x='Tempo XP em Dados', y='Salario Medio', hue='Genero', data=tmp, order=['Não tenho experiência na área de dados','Menos de 1 ano', 'de 1 a 2 anos',\n",
        "       'de 2 a 3 anos', 'de 4 a 5 anos', 'de 6 a 10 anos', 'Mais de 10 anos'],\n",
        "            hue_order=['Masculino', 'Feminino', 'Outro'], palette='inferno')"
      ],
      "metadata": {
        "colab": {
          "base_uri": "https://localhost:8080/",
          "height": 501
        },
        "id": "1yf5l_FlER57",
        "outputId": "3e26abb6-bccf-4411-a96b-d952ec1253e4"
      },
      "execution_count": null,
      "outputs": [
        {
          "output_type": "execute_result",
          "data": {
            "text/plain": [
              "<matplotlib.axes._subplots.AxesSubplot at 0x7fe2757ee190>"
            ]
          },
          "metadata": {},
          "execution_count": 87
        },
        {
          "output_type": "display_data",
          "data": {
            "text/plain": [
              "<Figure size 1440x720 with 1 Axes>"
            ],
            "image/png": "[encoded data removed]"
          },
          "metadata": {
            "needs_background": "light"
          }
        }
      ]
    },
    {
      "cell_type": "markdown",
      "source": [
        "### TAREFA PARA CASA\n",
        "\n",
        "1. Analise a diferença de salario para gestão, olhar a coluna: \"Cargo como Gestor(a)\"\n",
        "2. Analise a diferença por formação, olhar as colunas \"Nivel Ensino\" e \"Area Formacao\""
      ],
      "metadata": {
        "id": "sQ7feRvZ3ePG"
      }
    },
    {
      "cell_type": "markdown",
      "source": [
        "#### Cargo como Gestor(a)"
      ],
      "metadata": {
        "id": "QClyw4ahHlpH"
      }
    },
    {
      "cell_type": "code",
      "source": [
        "df[\"Cargo como Gestor(a)\"].value_counts()"
      ],
      "metadata": {
        "colab": {
          "base_uri": "https://localhost:8080/"
        },
        "outputId": "7a306576-828e-4d7f-aabb-ec70f0f3a735",
        "id": "BeC266m2_ZLd"
      },
      "execution_count": null,
      "outputs": [
        {
          "output_type": "execute_result",
          "data": {
            "text/plain": [
              "Gerente/Head/Diretor/VP                      196\n",
              "Supervisor/Coordenador                       129\n",
              "Team Leader/Tech Leader                      112\n",
              "Sócio ou C-level (CEO, CDO, CIO, CTO etc)     71\n",
              "Name: Cargo como Gestor(a), dtype: int64"
            ]
          },
          "metadata": {},
          "execution_count": 89
        }
      ]
    },
    {
      "cell_type": "code",
      "source": [
        "temp = df.groupby([\"Genero\", \"Cargo como Gestor(a)\"])['Faixa Salarial_number'].mean()\n",
        "temp = temp.reset_index(name=\"Salario Medio\")\n",
        "temp"
      ],
      "metadata": {
        "colab": {
          "base_uri": "https://localhost:8080/",
          "height": 300
        },
        "outputId": "c108fc49-3c79-4f51-f374-57833d5b6f8b",
        "id": "p06CH2QZ_ZLe"
      },
      "execution_count": null,
      "outputs": [
        {
          "output_type": "execute_result",
          "data": {
            "text/plain": [
              "      Genero                       Cargo como Gestor(a)  Salario Medio\n",
              "0   Feminino                    Gerente/Head/Diretor/VP   20000.000000\n",
              "1   Feminino                     Supervisor/Coordenador   13300.000000\n",
              "2   Feminino  Sócio ou C-level (CEO, CDO, CIO, CTO etc)   19857.142857\n",
              "3   Feminino                    Team Leader/Tech Leader    9933.333333\n",
              "4  Masculino                    Gerente/Head/Diretor/VP   20947.368421\n",
              "5  Masculino                     Supervisor/Coordenador   12724.770642\n",
              "6  Masculino  Sócio ou C-level (CEO, CDO, CIO, CTO etc)   17390.625000\n",
              "7  Masculino                    Team Leader/Tech Leader   14917.525773"
            ],
            "text/html": [
              "\n",
              "  <div id=\"df-a2d126c9-8d83-46ad-b7e3-729525222e5c\">\n",
              "    <div class=\"colab-df-container\">\n",
              "      <div>\n",
              "<style scoped>\n",
              "    .dataframe tbody tr th:only-of-type {\n",
              "        vertical-align: middle;\n",
              "    }\n",
              "\n",
              "    .dataframe tbody tr th {\n",
              "        vertical-align: top;\n",
              "    }\n",
              "\n",
              "    .dataframe thead th {\n",
              "        text-align: right;\n",
              "    }\n",
              "</style>\n",
              "<table border=\"1\" class=\"dataframe\">\n",
              "  <thead>\n",
              "    <tr style=\"text-align: right;\">\n",
              "      <th></th>\n",
              "      <th>Genero</th>\n",
              "      <th>Cargo como Gestor(a)</th>\n",
              "      <th>Salario Medio</th>\n",
              "    </tr>\n",
              "  </thead>\n",
              "  <tbody>\n",
              "    <tr>\n",
              "      <th>0</th>\n",
              "      <td>Feminino</td>\n",
              "      <td>Gerente/Head/Diretor/VP</td>\n",
              "      <td>20000.000000</td>\n",
              "    </tr>\n",
              "    <tr>\n",
              "      <th>1</th>\n",
              "      <td>Feminino</td>\n",
              "      <td>Supervisor/Coordenador</td>\n",
              "      <td>13300.000000</td>\n",
              "    </tr>\n",
              "    <tr>\n",
              "      <th>2</th>\n",
              "      <td>Feminino</td>\n",
              "      <td>Sócio ou C-level (CEO, CDO, CIO, CTO etc)</td>\n",
              "      <td>19857.142857</td>\n",
              "    </tr>\n",
              "    <tr>\n",
              "      <th>3</th>\n",
              "      <td>Feminino</td>\n",
              "      <td>Team Leader/Tech Leader</td>\n",
              "      <td>9933.333333</td>\n",
              "    </tr>\n",
              "    <tr>\n",
              "      <th>4</th>\n",
              "      <td>Masculino</td>\n",
              "      <td>Gerente/Head/Diretor/VP</td>\n",
              "      <td>20947.368421</td>\n",
              "    </tr>\n",
              "    <tr>\n",
              "      <th>5</th>\n",
              "      <td>Masculino</td>\n",
              "      <td>Supervisor/Coordenador</td>\n",
              "      <td>12724.770642</td>\n",
              "    </tr>\n",
              "    <tr>\n",
              "      <th>6</th>\n",
              "      <td>Masculino</td>\n",
              "      <td>Sócio ou C-level (CEO, CDO, CIO, CTO etc)</td>\n",
              "      <td>17390.625000</td>\n",
              "    </tr>\n",
              "    <tr>\n",
              "      <th>7</th>\n",
              "      <td>Masculino</td>\n",
              "      <td>Team Leader/Tech Leader</td>\n",
              "      <td>14917.525773</td>\n",
              "    </tr>\n",
              "  </tbody>\n",
              "</table>\n",
              "</div>\n",
              "      <button class=\"colab-df-convert\" onclick=\"convertToInteractive('df-a2d126c9-8d83-46ad-b7e3-729525222e5c')\"\n",
              "              title=\"Convert this dataframe to an interactive table.\"\n",
              "              style=\"display:none;\">\n",
              "        \n",
              "  <svg xmlns=\"http://www.w3.org/2000/svg\" height=\"24px\"viewBox=\"0 0 24 24\"\n",
              "       width=\"24px\">\n",
              "    <path d=\"M0 0h24v24H0V0z\" fill=\"none\"/>\n",
              "    <path d=\"M18.56 5.44l.94 2.06.94-2.06 2.06-.94-2.06-.94-.94-2.06-.94 2.06-2.06.94zm-11 1L8.5 8.5l.94-2.06 2.06-.94-2.06-.94L8.5 2.5l-.94 2.06-2.06.94zm10 10l.94 2.06.94-2.06 2.06-.94-2.06-.94-.94-2.06-.94 2.06-2.06.94z\"/><path d=\"M17.41 7.96l-1.37-1.37c-.4-.4-.92-.59-1.43-.59-.52 0-1.04.2-1.43.59L10.3 9.45l-7.72 7.72c-.78.78-.78 2.05 0 2.83L4 21.41c.39.39.9.59 1.41.59.51 0 1.02-.2 1.41-.59l7.78-7.78 2.81-2.81c.8-.78.8-2.07 0-2.86zM5.41 20L4 18.59l7.72-7.72 1.47 1.35L5.41 20z\"/>\n",
              "  </svg>\n",
              "      </button>\n",
              "      \n",
              "  <style>\n",
              "    .colab-df-container {\n",
              "      display:flex;\n",
              "      flex-wrap:wrap;\n",
              "      gap: 12px;\n",
              "    }\n",
              "\n",
              "    .colab-df-convert {\n",
              "      background-color: #E8F0FE;\n",
              "      border: none;\n",
              "      border-radius: 50%;\n",
              "      cursor: pointer;\n",
              "      display: none;\n",
              "      fill: #1967D2;\n",
              "      height: 32px;\n",
              "      padding: 0 0 0 0;\n",
              "      width: 32px;\n",
              "    }\n",
              "\n",
              "    .colab-df-convert:hover {\n",
              "      background-color: #E2EBFA;\n",
              "      box-shadow: 0px 1px 2px rgba(60, 64, 67, 0.3), 0px 1px 3px 1px rgba(60, 64, 67, 0.15);\n",
              "      fill: #174EA6;\n",
              "    }\n",
              "\n",
              "    [theme=dark] .colab-df-convert {\n",
              "      background-color: #3B4455;\n",
              "      fill: #D2E3FC;\n",
              "    }\n",
              "\n",
              "    [theme=dark] .colab-df-convert:hover {\n",
              "      background-color: #434B5C;\n",
              "      box-shadow: 0px 1px 3px 1px rgba(0, 0, 0, 0.15);\n",
              "      filter: drop-shadow(0px 1px 2px rgba(0, 0, 0, 0.3));\n",
              "      fill: #FFFFFF;\n",
              "    }\n",
              "  </style>\n",
              "\n",
              "      <script>\n",
              "        const buttonEl =\n",
              "          document.querySelector('#df-a2d126c9-8d83-46ad-b7e3-729525222e5c button.colab-df-convert');\n",
              "        buttonEl.style.display =\n",
              "          google.colab.kernel.accessAllowed ? 'block' : 'none';\n",
              "\n",
              "        async function convertToInteractive(key) {\n",
              "          const element = document.querySelector('#df-a2d126c9-8d83-46ad-b7e3-729525222e5c');\n",
              "          const dataTable =\n",
              "            await google.colab.kernel.invokeFunction('convertToInteractive',\n",
              "                                                     [key], {});\n",
              "          if (!dataTable) return;\n",
              "\n",
              "          const docLinkHtml = 'Like what you see? Visit the ' +\n",
              "            '<a target=\"_blank\" href=https://colab.research.google.com/notebooks/data_table.ipynb>data table notebook</a>'\n",
              "            + ' to learn more about interactive tables.';\n",
              "          element.innerHTML = '';\n",
              "          dataTable['output_type'] = 'display_data';\n",
              "          await google.colab.output.renderOutput(dataTable, element);\n",
              "          const docLink = document.createElement('div');\n",
              "          docLink.innerHTML = docLinkHtml;\n",
              "          element.appendChild(docLink);\n",
              "        }\n",
              "      </script>\n",
              "    </div>\n",
              "  </div>\n",
              "  "
            ]
          },
          "metadata": {},
          "execution_count": 90
        }
      ]
    },
    {
      "cell_type": "code",
      "source": [
        "tmp = df.groupby(['Genero', 'Cargo como Gestor(a)'])['Faixa Salarial_number'].mean()\n",
        "tmp = tmp.reset_index(name='Salario Medio')\n",
        "plt.figure(figsize=(20,10))\n",
        "sns.barplot(x='Cargo como Gestor(a)', y='Salario Medio', hue='Genero', data=tmp,\n",
        "            hue_order=['Masculino', 'Feminino'], palette='Paired')"
      ],
      "metadata": {
        "colab": {
          "base_uri": "https://localhost:8080/",
          "height": 643
        },
        "id": "D6XMfLGZHOzG",
        "outputId": "6b43609b-ef00-44a0-b90d-d54d37deb6d1"
      },
      "execution_count": null,
      "outputs": [
        {
          "output_type": "execute_result",
          "data": {
            "text/plain": [
              "<matplotlib.axes._subplots.AxesSubplot at 0x7fe275448890>"
            ]
          },
          "metadata": {},
          "execution_count": 99
        },
        {
          "output_type": "display_data",
          "data": {
            "text/plain": [
              "<Figure size 1440x720 with 1 Axes>"
            ],
            "image/png": "[encoded data removed]"
          },
          "metadata": {
            "needs_background": "light"
          }
        }
      ]
    },
    {
      "cell_type": "markdown",
      "source": [
        "#### Nivel Ensino e Area Formacao"
      ],
      "metadata": {
        "id": "kq4vFoUvHrJF"
      }
    },
    {
      "cell_type": "code",
      "source": [
        "df[\"Nivel Ensino\"].value_counts()"
      ],
      "metadata": {
        "colab": {
          "base_uri": "https://localhost:8080/"
        },
        "id": "UNHvxZBQ3ZOX",
        "outputId": "245ad9c2-340d-49f9-d27d-9a8623cfa1ea"
      },
      "execution_count": null,
      "outputs": [
        {
          "output_type": "execute_result",
          "data": {
            "text/plain": [
              "Graduação/Bacharelado         830\n",
              "Pós-graduação                 778\n",
              "Mestrado                      307\n",
              "Estudante de Graduação        299\n",
              "Doutorado ou Phd               97\n",
              "Não tenho graduação formal     51\n",
              "Prefiro não informar            3\n",
              "Name: Nivel Ensino, dtype: int64"
            ]
          },
          "metadata": {},
          "execution_count": 100
        }
      ]
    },
    {
      "cell_type": "code",
      "source": [
        "df.groupby([\"Genero\", \"Nivel Ensino\"])['Faixa Salarial_number'].mean()"
      ],
      "metadata": {
        "colab": {
          "base_uri": "https://localhost:8080/"
        },
        "id": "78ROeYHxH2qo",
        "outputId": "09ca9054-b957-487d-d855-b2e56055af78"
      },
      "execution_count": null,
      "outputs": [
        {
          "output_type": "execute_result",
          "data": {
            "text/plain": [
              "Genero     Nivel Ensino              \n",
              "Feminino   Doutorado ou Phd              11111.111111\n",
              "           Estudante de Graduação         3761.904762\n",
              "           Graduação/Bacharelado          8243.055556\n",
              "           Mestrado                      11212.121212\n",
              "           Não tenho graduação formal    12285.714286\n",
              "           Pós-graduação                 10698.113208\n",
              "Masculino  Doutorado ou Phd              15316.455696\n",
              "           Estudante de Graduação         4851.562500\n",
              "           Graduação/Bacharelado         10002.932551\n",
              "           Mestrado                      16136.929461\n",
              "           Não tenho graduação formal    11568.181818\n",
              "           Prefiro não informar           7333.333333\n",
              "           Pós-graduação                 12468.497577\n",
              "Outro      Estudante de Graduação         2000.000000\n",
              "           Graduação/Bacharelado         14500.000000\n",
              "Name: Faixa Salarial_number, dtype: float64"
            ]
          },
          "metadata": {},
          "execution_count": 102
        }
      ]
    },
    {
      "cell_type": "code",
      "source": [
        "tmp = df.groupby(['Genero', 'Nivel Ensino'])['Faixa Salarial_number'].mean()\n",
        "tmp = tmp.reset_index(name='Salario Medio')\n",
        "plt.figure(figsize=(20,10))\n",
        "sns.barplot(x='Nivel Ensino', y='Salario Medio', hue='Genero', data=tmp, order=[\" Prefiro não informar\",\n",
        "            \"Não tenho graduação formal\", \"Estudante de Graduação\", \"Graduação/Bacharelado\", \"Pós-graduação\",\n",
        "            \"Mestrado\", \"Doutorado ou Phd\"],\n",
        "            hue_order=['Masculino', 'Feminino', 'Outro'], palette='Paired')"
      ],
      "metadata": {
        "colab": {
          "base_uri": "https://localhost:8080/",
          "height": 501
        },
        "id": "aZW7qAZGKoYy",
        "outputId": "d672186d-b9be-4e76-c152-4d4ab575671c"
      },
      "execution_count": null,
      "outputs": [
        {
          "output_type": "execute_result",
          "data": {
            "text/plain": [
              "<matplotlib.axes._subplots.AxesSubplot at 0x7fe27516f350>"
            ]
          },
          "metadata": {},
          "execution_count": 113
        },
        {
          "output_type": "display_data",
          "data": {
            "text/plain": [
              "<Figure size 1440x720 with 1 Axes>"
            ],
            "image/png": "[encoded data removed]"
          },
          "metadata": {
            "needs_background": "light"
          }
        }
      ]
    },
    {
      "cell_type": "markdown",
      "source": [
        "Área de Formação"
      ],
      "metadata": {
        "id": "vrlQZJfOL6zA"
      }
    },
    {
      "cell_type": "code",
      "source": [
        "df[\"Area Formacao\"].value_counts()"
      ],
      "metadata": {
        "colab": {
          "base_uri": "https://localhost:8080/"
        },
        "id": "MfmZcAmRKlTo",
        "outputId": "f1724914-8e0f-4fec-eaf7-86137dcab1a7"
      },
      "execution_count": null,
      "outputs": [
        {
          "output_type": "execute_result",
          "data": {
            "text/plain": [
              "Computação / Engenharia de Software / Sistemas de Informação/ TI    1010\n",
              "Outras Engenharias                                                   547\n",
              "Economia/ Administração / Contabilidade / Finanças                   332\n",
              "Estatística/ Matemática / Matemática Computacional                   182\n",
              "Química / Física                                                      61\n",
              "Marketing / Publicidade / Comunicação / Jornalismo                    61\n",
              "Outras                                                                43\n",
              "Ciências Biológicas/Farmácia/Medicina/Área da Saúde                   40\n",
              "Ciências Sociais                                                      35\n",
              "Name: Area Formacao, dtype: int64"
            ]
          },
          "metadata": {},
          "execution_count": 114
        }
      ]
    },
    {
      "cell_type": "code",
      "source": [
        "df.groupby([\"Genero\", \"Area Formacao\"])['Faixa Salarial_number'].mean()"
      ],
      "metadata": {
        "colab": {
          "base_uri": "https://localhost:8080/"
        },
        "id": "yhKOXXPSL-0x",
        "outputId": "5527252e-31fb-4ae3-a561-5e1db18602fd"
      },
      "execution_count": null,
      "outputs": [
        {
          "output_type": "execute_result",
          "data": {
            "text/plain": [
              "Genero     Area Formacao                                                   \n",
              "Feminino   Ciências Biológicas/Farmácia/Medicina/Área da Saúde                  7866.666667\n",
              "           Ciências Sociais                                                     5833.333333\n",
              "           Computação / Engenharia de Software / Sistemas de Informação/ TI    10094.936709\n",
              "           Economia/ Administração / Contabilidade / Finanças                   9153.846154\n",
              "           Estatística/ Matemática / Matemática Computacional                   9415.094340\n",
              "           Marketing / Publicidade / Comunicação / Jornalismo                  12388.888889\n",
              "           Outras                                                               5444.444444\n",
              "           Outras Engenharias                                                   8389.473684\n",
              "           Química / Física                                                     7500.000000\n",
              "Masculino  Ciências Biológicas/Farmácia/Medicina/Área da Saúde                  8080.000000\n",
              "           Ciências Sociais                                                     9500.000000\n",
              "           Computação / Engenharia de Software / Sistemas de Informação/ TI    11893.066980\n",
              "           Economia/ Administração / Contabilidade / Finanças                   9524.344569\n",
              "           Estatística/ Matemática / Matemática Computacional                  10542.635659\n",
              "           Marketing / Publicidade / Comunicação / Jornalismo                  13047.619048\n",
              "           Outras                                                              11848.484848\n",
              "           Outras Engenharias                                                  10532.150776\n",
              "           Química / Física                                                    13725.490196\n",
              "Outro      Ciências Sociais                                                     6000.000000\n",
              "           Computação / Engenharia de Software / Sistemas de Informação/ TI     6000.000000\n",
              "           Marketing / Publicidade / Comunicação / Jornalismo                   2000.000000\n",
              "           Outras                                                              40000.000000\n",
              "           Outras Engenharias                                                   6000.000000\n",
              "Name: Faixa Salarial_number, dtype: float64"
            ]
          },
          "metadata": {},
          "execution_count": 115
        }
      ]
    },
    {
      "cell_type": "code",
      "source": [
        "tmp = df.groupby(['Genero', 'Area Formacao'])['Faixa Salarial_number'].mean()\n",
        "tmp = tmp.reset_index(name='Salario Medio')\n",
        "plt.figure(figsize=(15,10))\n",
        "sns.barplot(y='Area Formacao', x='Salario Medio', hue='Genero', data=tmp, \n",
        "            hue_order=['Masculino', 'Feminino', 'Outro'], palette='Paired')"
      ],
      "metadata": {
        "colab": {
          "base_uri": "https://localhost:8080/",
          "height": 491
        },
        "id": "GPUd5d6gMGnv",
        "outputId": "aef25845-0907-4fa6-93ef-2059bfe0e700"
      },
      "execution_count": null,
      "outputs": [
        {
          "output_type": "execute_result",
          "data": {
            "text/plain": [
              "<matplotlib.axes._subplots.AxesSubplot at 0x7fe274c1dbd0>"
            ]
          },
          "metadata": {},
          "execution_count": 121
        },
        {
          "output_type": "display_data",
          "data": {
            "text/plain": [
              "<Figure size 1080x720 with 1 Axes>"
            ],
            "image/png": "[encoded data removed]"
          },
          "metadata": {
            "needs_background": "light"
          }
        }
      ]
    },
    {
      "cell_type": "code",
      "source": [],
      "metadata": {
        "id": "-iyhMA0HMZO2"
      },
      "execution_count": null,
      "outputs": []
    }
  ]
}